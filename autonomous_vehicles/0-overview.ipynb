{
 "cells": [
  {
   "cell_type": "markdown",
   "metadata": {
    "slideshow": {
     "slide_type": "slide"
    }
   },
   "source": [
    "<p style=\"text-align: center;font-size: 40pt\">Module</p>\n",
    "<p style=\"text-align: center;font-size: 20pt\">Autonomous vehicles</p>"
   ]
  },
  {
   "cell_type": "markdown",
   "metadata": {},
   "source": [
    "# Overview\n",
    "\n",
    "Requirements:\n",
    "- [General introduction](../general_introduction.ipynb)\n",
    "- [Primer on JupyterLab](../primers/1-lesson_jupyterlab.ipynb)\n",
    "- [Primer on Python](../primers/2-lesson_matlab_python.ipynb)\n",
    "\n",
    "Objectives:\n",
    "- TODO\n",
    "\n",
    "Time planning:\n",
    "- TODO"
   ]
  },
  {
   "cell_type": "markdown",
   "metadata": {},
   "source": [
    "# Activities\n",
    "\n",
    "This module covers one of the most popular applications of mobile robotics of the last few years: autonomous vehicles. It has 5 lessons without exercise:\n",
    "1. [History of autonomous cars](1-lesson_history.ipynb)\n",
    "1. [Examples of autonomous vehicles](2-lesson_examples.ipynb)\n",
    "1. [General architecture of autonomous vehicles](3-lesson_architecture.ipynb)\n",
    "1. [Localization and mapping](4-lesson_localization_mapping.ipynb)\n",
    "1. [Overview of lidars](5-lesson_lidars.ipynb)\n",
    "\n",
    "and two assignments:\n",
    "- [Analysis of an autonomous car company](../../exercises/autonomous_vehicles/1-assignment_company.ipynb)\n",
    "- [Analysis of commercial lidars](../../exercises/autonomous_vehicles/2-assignment_lidars.ipynb)"
   ]
  },
  {
   "cell_type": "markdown",
   "metadata": {},
   "source": [
    "&#8635; [Go back to the list of modules](../modules_overview.ipynb)"
   ]
  },
  {
   "cell_type": "markdown",
   "metadata": {},
   "source": [
    "<p style=\"text-align:center\">\n",
    "<img src=\"../../common/images/module_4.jpeg\" alt=\"../../common/images/module_4.jpeg\" width=100%/>\n",
    "</p>"
   ]
  }
 ],
 "metadata": {
  "kernelspec": {
   "display_name": "Python 3",
   "language": "python",
   "name": "python3"
  },
  "language_info": {
   "codemirror_mode": {
    "name": "ipython",
    "version": 3
   },
   "file_extension": ".py",
   "mimetype": "text/x-python",
   "name": "python",
   "nbconvert_exporter": "python",
   "pygments_lexer": "ipython3",
   "version": "3.7.6"
  }
 },
 "nbformat": 4,
 "nbformat_minor": 4
}

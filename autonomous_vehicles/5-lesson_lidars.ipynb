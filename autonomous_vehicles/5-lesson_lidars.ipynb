{
 "cells": [
  {
   "cell_type": "markdown",
   "metadata": {},
   "source": [
    "<p style=\"text-align: center;font-size: 40pt\">\n",
    "Overview of lidars\n",
    "<img src=\"images/car_with_lidar.jpg\" width=\"75%\">\n",
    "</p>"
   ]
  },
  {
   "cell_type": "markdown",
   "metadata": {},
   "source": [
    "# Introduction\n",
    "\n",
    "Lidars are one of the most common sensors one can find on autonomous vehicles. The reason behind their popularity is that they are becoming more and more affordable and provide rich 3D information about the geometry of the surroundings. In this lesson, you will learn the basics of how lidars work and what are their limitations. "
   ]
  },
  {
   "cell_type": "markdown",
   "metadata": {},
   "source": [
    "# Basic principle\n",
    "\n",
    "- bouncing light pulses\n",
    "- many lasers (or channels or beams) + rotating mirror\n",
    "- known angles + known distance (with back-and-forth time and speed of light) -> spherical coordinates -> can be converted to cartesian coordinates\n",
    "- point coordinates are in lidar frame"
   ]
  },
  {
   "cell_type": "markdown",
   "metadata": {},
   "source": [
    "# Now, in real life\n",
    "\n",
    "- angle of incidence / object reflectance -> absorption / diffusion / reflection -> returned pulse intensity is decreased or null\n",
    "- laser beam is a cone, not a line -> precision decreases with distance\n",
    "- multiple returns -> multiple points with one pulse\n",
    "- sensor is assumed to be static during scans -> it isn't"
   ]
  },
  {
   "cell_type": "markdown",
   "metadata": {},
   "source": [
    "# Error sources\n",
    "\n",
    "- multiple returns averaged -> shadow points\n",
    "- specular reflections -> virtual points\n",
    "- angle uncertainty (mechanism) -> error in angle\n",
    "- peak detection + clock accuracy -> error in time\n",
    "- sensor temperature -> error in time\n",
    "- bias (distance + angle of incidence) -> error in time\n",
    "- refraction -> error in time"
   ]
  },
  {
   "cell_type": "markdown",
   "metadata": {},
   "source": [
    "# Lidar specifications\n",
    "\n",
    "- laser beam divergence -> (degrees)\n",
    "- range/angle precision (influenced by errors and distance + beam divergence) -> (meters)\n",
    "- range/angle accuracy (influenced by errors) -> (meters)\n",
    "\n",
    "- horizontal field of view -> the horizontal area captured by the sensor (degrees)\n",
    "- horizontal (or azimuth) angular resolution -> smallest horizontal angle between two successive points (degrees)\n",
    "- horizontal points -> the number of horizontal points generated per scan\n",
    "- horizontal points -> horizontal field of view / horizontal angular resolution\n",
    "\n",
    "- vertical field of view -> the vertical area captured by the sensor (degrees)\n",
    "- vertical angular resolution -> smallest vertical angle between two successive points (degrees)\n",
    "- vertical points -> the number of rows of points generated per scan, also called channels or beams\n",
    "- vertical points = vertical field of view / vertical angular resolution\n",
    "\n",
    "- scan rate -> number of scans generated per second\n",
    "- points per second -> total number of points generated in a second\n",
    "- points per second = horizontal points * vertical points * scan rate\n",
    "\n",
    "- laser class safety\n",
    "\n",
    "- minimum range -> smallest distance from target from which the sensor can operate (meters)\n",
    "- maximum range -> biggest distance from target from which the sensor can operate (meters)\n",
    "\n",
    "interaction between metrics, but marketing people tend to hide it"
   ]
  }
 ],
 "metadata": {
  "kernelspec": {
   "display_name": "Python 3",
   "language": "python",
   "name": "python3"
  },
  "language_info": {
   "codemirror_mode": {
    "name": "ipython",
    "version": 3
   },
   "file_extension": ".py",
   "mimetype": "text/x-python",
   "name": "python",
   "nbconvert_exporter": "python",
   "pygments_lexer": "ipython3",
   "version": "3.6.9"
  }
 },
 "nbformat": 4,
 "nbformat_minor": 4
}

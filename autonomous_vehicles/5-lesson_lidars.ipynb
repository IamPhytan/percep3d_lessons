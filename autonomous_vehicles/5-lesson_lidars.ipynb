{
 "cells": [
  {
   "cell_type": "markdown",
   "metadata": {},
   "source": [
    "<p style=\"text-align: center;font-size: 40pt\">Overview of lidars</p>"
   ]
  },
  {
   "cell_type": "code",
   "execution_count": 1,
   "metadata": {},
   "outputs": [],
   "source": [
    "%matplotlib widget\n",
    "#%matplotlib inline\n",
    "\n",
    "import matplotlib.pyplot as plt\n",
    "import matplotlib.patches as patches\n",
    "import numpy as np\n",
    "import scipy.stats as stats\n",
    "import math\n",
    "from PIL import Image\n",
    "\n",
    "%run ./scripts/helper_func.py\n",
    "path = \"{0}/common/scripts/style.py\".format(get_root_path())\n",
    "%run $path"
   ]
  },
  {
   "cell_type": "markdown",
   "metadata": {},
   "source": [
    "# Introduction\n",
    "\n",
    "Lidars (LIght Detection And Ranging) are one of the most common sensors one can find on autonomous vehicles.\n",
    "The reason behind their popularity is that they are becoming more and more affordable and provide rich 3D information about their surroundings.\n",
    "In this lesson, you will learn the basics of how lidars work and what are their limitations. "
   ]
  },
  {
   "cell_type": "markdown",
   "metadata": {},
   "source": [
    "# Basic principle\n",
    "\n",
    "## In one dimension\n",
    "First of all, what is a lidar?\n",
    "Well, a 1D lidar would be a [laser rangefinder](https://en.wikipedia.org/wiki/Laser_rangefinder), you know, those small devices used to measure a distance.\n",
    "They send a laser pulse on an object and measure how much time it takes for the pulse to bounce on it and come back.\n",
    "Knowing this time and the speed at which the pulse travels (the speed of light), one can compute the distance between the lidar and the object.\n",
    "\n",
    "<p style=\"text-align: center;\">\n",
    "<img src=\"images/1d_lidar.svg\" width=\"50%\">\n",
    "</p>\n",
    "\n",
    "## In two dimensions\n",
    "If you take this laser and point it to a mirror rotating along the Z axis, you can _scan_ a line around the sensor, meaning you now have a 2D lidar.\n",
    "The output of such a lidar is no longer a single distance (or point), but a set of points (i.e. a point cloud) in 2D.\n",
    "The position of a point is computed using the time it takes for a laser pulse to bounce back to the lidar as well as the mirror angle at the moment at which the pulse was fired.\n",
    "This will give you an angle and a distance (i.e. [polar coordinates](https://en.wikipedia.org/wiki/Polar_coordinate_system)), which can then be converted to [2D Cartesian coordinates](https://en.wikipedia.org/wiki/Cartesian_coordinate_system#Cartesian_coordinates_in_two_dimensions) (in the frame of the lidar).\n",
    "\n",
    "<p style=\"text-align: center;\">\n",
    "<img src=\"images/2d_lidar.gif\" width=\"15%\">\n",
    "</p>\n",
    "\n",
    "## In three dimensions\n",
    "Finally, if you take multiple lasers (or channels or beams) and point them to the good old rotating mirror, you can _scan_ multiple lines (at different heights) around the sensor, which means you now have a 3D lidar.\n",
    "The following image shows the output of such a lidar.\n",
    "If you look carefully at the layout of the points, you will be able to see the scan lines (or rings) of the different lasers around the lidar.\n",
    "When computing the position of a point in 3D, the difference with 2D is that positions are computed using two angles: the vertical angle (i.e. channel angle) as well as the horizontal/azimuth angle (i.e. mirror angle).\n",
    "Therefore, you will have two angles and one distance (i.e. [spherical coordinates](https://en.wikipedia.org/wiki/Spherical_coordinate_system)), which can then be converted to [3D Cartesian coordinates](https://en.wikipedia.org/wiki/Cartesian_coordinate_system#Cartesian_coordinates_in_three_dimensions) (in the frame of the lidar).\n",
    "\n",
    "<p style=\"text-align: center\">\n",
    "<img src=\"images/3d_lidar.jpg\" width=\"50%\">\n",
    "</p>"
   ]
  },
  {
   "cell_type": "markdown",
   "metadata": {},
   "source": [
    "# Now, in real life\n",
    "\n",
    "In real life though, everything is not so simple.\n",
    "Mostly, things go bad because of the physics of light propagation.\n",
    "\n",
    "## Laser pulses are not instantaneous\n",
    "Laser pulses are not just a punctual burst of energy, as we might think.\n",
    "When a pulse is emitted by a lidar, the intensity released in function of time looks a little like this:"
   ]
  },
  {
   "cell_type": "code",
   "execution_count": 2,
   "metadata": {},
   "outputs": [
    {
     "data": {
      "application/vnd.jupyter.widget-view+json": {
       "model_id": "5684c9f3c45242dab5a5d91732ea6c32",
       "version_major": 2,
       "version_minor": 0
      },
      "text/plain": [
       "Canvas(toolbar=Toolbar(toolitems=[('Home', 'Reset original view', 'home', 'home'), ('Back', 'Back to previous …"
      ]
     },
     "metadata": {},
     "output_type": "display_data"
    }
   ],
   "source": [
    "if 'fig' in globals():\n",
    "    plt.close(fig)\n",
    "\n",
    "fig = plt.figure(figsize=(5,5))\n",
    "\n",
    "#------------------------\n",
    "ax1 = fig.add_subplot(111)\n",
    "ax = ax1\n",
    "ax.set_title(r\"Laser pulse intensity\")\n",
    "ax.set_xticklabels([])\n",
    "ax.set_yticklabels([])\n",
    "ax.set_xlabel('time [s]')\n",
    "ax.set_ylabel('intensity')\n",
    "\n",
    "mu = 0\n",
    "variance = 20\n",
    "sigma = math.sqrt(variance)\n",
    "x = np.linspace(mu - 3*sigma, mu + 3*sigma, 100)\n",
    "_ = ax.plot(x, stats.norm.pdf(x, mu, sigma))"
   ]
  },
  {
   "cell_type": "markdown",
   "metadata": {},
   "source": [
    "When the pulse is reflected back, the intensity recorded by the lidar looks similar.\n",
    "Even though this intensity variation happens in a really short amount of time, we cannot consider it as an instantaneous peak, since we are dealing with things happening at the speed of light here.\n",
    "This leads to the following problem: when the pulse bounces back to the lidar, how to determine exactly the moment at which it arrives?\n",
    "Most lidars have a threshold and when the intensity goes above and back below it, they take the time in the middle and state that this is when the pulse came back.\n",
    "However, in some cases, the intensity recorded by the lidar looks more like this:"
   ]
  },
  {
   "cell_type": "code",
   "execution_count": 3,
   "metadata": {},
   "outputs": [
    {
     "data": {
      "application/vnd.jupyter.widget-view+json": {
       "model_id": "9b771d9cdad442c09c5720849076c364",
       "version_major": 2,
       "version_minor": 0
      },
      "text/plain": [
       "Canvas(toolbar=Toolbar(toolitems=[('Home', 'Reset original view', 'home', 'home'), ('Back', 'Back to previous …"
      ]
     },
     "metadata": {},
     "output_type": "display_data"
    }
   ],
   "source": [
    "if 'fig' in globals():\n",
    "    plt.close(fig)\n",
    "\n",
    "fig = plt.figure(figsize=(5,5))\n",
    "\n",
    "#------------------------\n",
    "ax1 = fig.add_subplot(111)\n",
    "ax = ax1\n",
    "ax.set_title(r\"Ugly returned laser pulse intensity\")\n",
    "ax.set_xticklabels([])\n",
    "ax.set_yticklabels([])\n",
    "ax.set_xlabel('time [s]')\n",
    "ax.set_ylabel('intensity')\n",
    "\n",
    "mu_1 = 0\n",
    "variance_1 = 20\n",
    "sigma_1 = math.sqrt(variance_1)\n",
    "\n",
    "mu_2 = 12\n",
    "variance_2 = 20\n",
    "sigma_2 = math.sqrt(variance_2)\n",
    "\n",
    "x = np.linspace(mu_1 - 3*sigma_1, mu_2 + 3*sigma_2, 100)\n",
    "_ = ax.plot(x, 0.6*stats.norm.pdf(x, mu_1, sigma_1) + 0.4*stats.norm.pdf(x, mu_2, sigma_2))"
   ]
  },
  {
   "cell_type": "markdown",
   "metadata": {},
   "source": [
    "This kind of intensity reading can lead to a bad detection of the time at which the pulse came back to the lidar, thus leading to a bad measure of distance.\n",
    "\n",
    "## Laser pulses are not perfectly reflected back to lidars\n",
    "Most of the time, [diffuse reflection](https://en.wikipedia.org/wiki/Diffuse_reflection) takes place and laser pulses are reflected in all directions when they hit an object, meaning that only a portion of their energy comes back to the lidar.\n",
    "This leads to returned pulse intensities looking like this:"
   ]
  },
  {
   "cell_type": "code",
   "execution_count": 4,
   "metadata": {},
   "outputs": [
    {
     "data": {
      "application/vnd.jupyter.widget-view+json": {
       "model_id": "8c084d95f1b042c5ad8c36136b7e7c3f",
       "version_major": 2,
       "version_minor": 0
      },
      "text/plain": [
       "Canvas(toolbar=Toolbar(toolitems=[('Home', 'Reset original view', 'home', 'home'), ('Back', 'Back to previous …"
      ]
     },
     "metadata": {},
     "output_type": "display_data"
    }
   ],
   "source": [
    "if 'fig' in globals():\n",
    "    plt.close(fig)\n",
    "\n",
    "fig = plt.figure(figsize=(5,5))\n",
    "\n",
    "#------------------------\n",
    "ax1 = fig.add_subplot(111)\n",
    "ax = ax1\n",
    "ax.set_title(r\"Emitted and returned laser pulse intensities\")\n",
    "ax.set_xticklabels([])\n",
    "ax.set_yticklabels([])\n",
    "ax.set_xlabel('time [s]')\n",
    "ax.set_ylabel('intensity')\n",
    "\n",
    "mu = 0\n",
    "variance = 20\n",
    "sigma = math.sqrt(variance)\n",
    "x = np.linspace(mu - 3*sigma, mu + 3*sigma, 100)\n",
    "_ = ax.plot(x, stats.norm.pdf(x, mu, sigma))\n",
    "_ = ax.annotate('emitted pulse', xy=(3, 0.07), xytext=(13, 0.08), arrowprops=dict(facecolor='black', shrink=0.05))\n",
    "\n",
    "_ = ax.text(17, 0.01, '...', fontsize=25)\n",
    "\n",
    "mu = 40\n",
    "variance = 20\n",
    "sigma = math.sqrt(variance)\n",
    "x = np.linspace(mu - 3*sigma, mu + 3*sigma, 100)\n",
    "_ = ax.plot(x, stats.norm.pdf(x, mu, sigma)*0.5)\n",
    "_ = ax.annotate('returned pulse', xy=(38, 0.04), xytext=(10, 0.05), arrowprops=dict(facecolor='black', shrink=0.05))"
   ]
  },
  {
   "cell_type": "markdown",
   "metadata": {},
   "source": [
    "In some cases, the intensity of the returned pulse is so low that it is below the intensity threshold of the lidar and nothing is measured.\n",
    "The intensity of the returned pulse varies in function of the distance to the surface, the incidence angle between the laser and the surface as well as the reflective properties of the surface.\n",
    "If the surface is too polished, a [specular reflection](https://en.wikipedia.org/wiki/Specular_reflection) can even occur and the whole pulse will get reflected in a different direction.\n",
    "Finally, some surfaces absorb completely the pulses.\n",
    "This is the case of black surfaces and of water, which absorbs infrared wavelengths.\n",
    "\n",
    "## Virtual points?\n",
    "Lorem ipsum.\n",
    "\n",
    "## Laser beams are shaped like cones\n",
    "Shocking right?\n",
    "Even though we are tempted to consider lidar laser beams like zero-width lines, in fact, they are shaped like cones (with their tip located in the lidar).\n",
    "When a laser beam hits a surface, it looks more like this:"
   ]
  },
  {
   "cell_type": "code",
   "execution_count": 5,
   "metadata": {},
   "outputs": [
    {
     "data": {
      "application/vnd.jupyter.widget-view+json": {
       "model_id": "95d8d48c8b554d999e1da9000c2183fc",
       "version_major": 2,
       "version_minor": 0
      },
      "text/plain": [
       "Canvas(toolbar=Toolbar(toolitems=[('Home', 'Reset original view', 'home', 'home'), ('Back', 'Back to previous …"
      ]
     },
     "metadata": {},
     "output_type": "display_data"
    }
   ],
   "source": [
    "if 'fig' in globals():\n",
    "    plt.close(fig)\n",
    "\n",
    "fig = plt.figure(figsize=(5,5))\n",
    "\n",
    "#------------------------\n",
    "ax1 = fig.add_subplot(111)\n",
    "ax = ax1\n",
    "ax.set_title(r\"Laser beam hitting a surface (seen from above)\")\n",
    "ax.set_axis_off()\n",
    "ax.set_xlim(0, 1)\n",
    "ax.set_ylim(0, 1)\n",
    "\n",
    "_ = ax.add_patch(patches.Wedge((0.025, 0.025), 1.05, 35, 42, color='white', alpha=0.2))\n",
    "_ = ax.add_patch(patches.Circle((0.025, 0.025), radius=0.02, color='white'))\n",
    "img = Image.open(\"images/turtle.png\")\n",
    "_ = ax.imshow(img, extent=[0.82, 0.92, 0.6, 0.7])"
   ]
  },
  {
   "cell_type": "markdown",
   "metadata": {},
   "source": [
    "In this case, when the laser pulse comes back to the lidar, there is no way of knowing exactly where the object was within the cone of the beam.\n",
    "This means that the farther you are from the lidar, the less precision you have, because the beam width increases with distance.\n",
    "\n",
    "## Shadow points\n",
    "Shadow points are points that do not really exist.\n",
    "They are the result of averaging portions of a pulse reflected by different surfaces.\n",
    "Indeed, because laser beams have a width, one emitted pulse can cause multiple intensity peaks at different times in the returned pulse.\n",
    "Here is an example of how it could happen:"
   ]
  },
  {
   "cell_type": "code",
   "execution_count": 6,
   "metadata": {},
   "outputs": [
    {
     "data": {
      "application/vnd.jupyter.widget-view+json": {
       "model_id": "0978fc474c5f4791b6b51d616cc4da37",
       "version_major": 2,
       "version_minor": 0
      },
      "text/plain": [
       "Canvas(toolbar=Toolbar(toolitems=[('Home', 'Reset original view', 'home', 'home'), ('Back', 'Back to previous …"
      ]
     },
     "metadata": {},
     "output_type": "display_data"
    }
   ],
   "source": [
    "if 'fig' in globals():\n",
    "    plt.close(fig)\n",
    "\n",
    "fig = plt.figure(figsize=(5,5))\n",
    "\n",
    "#------------------------\n",
    "ax1 = fig.add_subplot(111)\n",
    "ax = ax1\n",
    "ax.set_title(\"Object geometry causing two \\n intensity peaks in the returned pulse\")\n",
    "\n",
    "ax.set_axis_off()\n",
    "ax.set_xlim(0, 1)\n",
    "ax.set_ylim(0, 1)\n",
    "\n",
    "_ = ax.add_patch(patches.Wedge((0.025, 0.025), 1.055, 35, 42, color='white', alpha=0.2))\n",
    "_ = ax.add_patch(patches.Circle((0.025, 0.025), radius=0.02, color='white'))\n",
    "_ = ax.add_patch(patches.Polygon((np.array([[0.75, 0.7], [0.8, 0.64], [0.848, 0.678], [0.9, 0.61], [0.96, 0.658], [0.86, 0.785]]))))"
   ]
  },
  {
   "cell_type": "markdown",
   "metadata": {},
   "source": [
    "In this case, the returned pulse intensity would look something like this:"
   ]
  },
  {
   "cell_type": "code",
   "execution_count": 7,
   "metadata": {},
   "outputs": [
    {
     "data": {
      "application/vnd.jupyter.widget-view+json": {
       "model_id": "1b13b49452f84163b9ff87717db5ed1b",
       "version_major": 2,
       "version_minor": 0
      },
      "text/plain": [
       "Canvas(toolbar=Toolbar(toolitems=[('Home', 'Reset original view', 'home', 'home'), ('Back', 'Back to previous …"
      ]
     },
     "metadata": {},
     "output_type": "display_data"
    }
   ],
   "source": [
    "if 'fig' in globals():\n",
    "    plt.close(fig)\n",
    "\n",
    "fig = plt.figure(figsize=(5,5))\n",
    "\n",
    "#------------------------\n",
    "ax1 = fig.add_subplot(111)\n",
    "ax = ax1\n",
    "ax.set_title(r\"Returned pulse intensity\")\n",
    "ax.set_xticklabels([])\n",
    "ax.set_yticklabels([])\n",
    "ax.set_xlabel('time [s]')\n",
    "ax.set_ylabel('intensity')\n",
    "\n",
    "mu_1 = 0\n",
    "variance_1 = 20\n",
    "sigma_1 = math.sqrt(variance_1)\n",
    "\n",
    "mu_2 = 15\n",
    "variance_2 = 20\n",
    "sigma_2 = math.sqrt(variance_2)\n",
    "\n",
    "x = np.linspace(mu_1 - 3*sigma_1, mu_2 + 3*sigma_2, 100)\n",
    "_ = ax.plot(x, 0.5*stats.norm.pdf(x, mu_1, sigma_1) + 0.5*stats.norm.pdf(x, mu_2, sigma_2))"
   ]
  },
  {
   "cell_type": "markdown",
   "metadata": {},
   "source": [
    "If the intensity in the middle section of this plot is above the lidar intensity threshold, the distance computed for the point will be located between the two surfaces and its position will be:"
   ]
  },
  {
   "cell_type": "code",
   "execution_count": 8,
   "metadata": {},
   "outputs": [
    {
     "data": {
      "application/vnd.jupyter.widget-view+json": {
       "model_id": "db33b56cb35e48f4b9c465c7ca345113",
       "version_major": 2,
       "version_minor": 0
      },
      "text/plain": [
       "Canvas(toolbar=Toolbar(toolitems=[('Home', 'Reset original view', 'home', 'home'), ('Back', 'Back to previous …"
      ]
     },
     "metadata": {},
     "output_type": "display_data"
    }
   ],
   "source": [
    "if 'fig' in globals():\n",
    "    plt.close(fig)\n",
    "\n",
    "fig = plt.figure(figsize=(5,5))\n",
    "\n",
    "#------------------------\n",
    "ax1 = fig.add_subplot(111)\n",
    "ax = ax1\n",
    "ax.set_title(r\"Shadow point location\")\n",
    "ax.set_axis_off()\n",
    "ax.set_xlim(0, 1)\n",
    "ax.set_ylim(0, 1)\n",
    "\n",
    "_ = ax.add_patch(patches.Wedge((0.025, 0.025), 1.055, 35, 42, color='white', alpha=0.2))\n",
    "_ = ax.add_patch(patches.Circle((0.025, 0.025), radius=0.02, color='white'))\n",
    "_ = ax.add_patch(patches.Polygon((np.array([[0.75, 0.7], [0.8, 0.64], [0.848, 0.678], [0.9, 0.61], [0.96, 0.658], [0.86, 0.785]])), alpha=1))\n",
    "_ = ax.add_patch(patches.Circle((0.83, 0.66), radius=0.01, color='red'))"
   ]
  },
  {
   "cell_type": "markdown",
   "metadata": {},
   "source": [
    "It results in a point being placed between two surfaces, where nothing was really measured.\n",
    "This can happen when things are placed in front of each others in a scan.\n",
    "Some lidars support multiple _echoes_ and will place two points at different distances instead.\n",
    "\n",
    "## Laser incidence angle distorts the measurements\n",
    "As surprising as this might sound, when the incidence angle between the laser beam and a surface is too high, the distance measured by the lidar is smaller than it should.\n",
    "This is due to the fact that most of the laser pulse energy is reflected back to the lidar when the first portion of the beam cone hits the surface, as illustrated here:\n",
    "\n",
    "<p style=\"text-align: center\">\n",
    "<img src=\"images/bias.png\" width=\"50%\">\n",
    "</p>\n",
    "\n",
    "Although this bias is mostly caused by the incidence angle between the laser beam and the surface it hits, it is also influenced by distance.\n",
    "Also, between lidar models, differences exist because of the different laser beam aperture angles, electronic components, etc."
   ]
  },
  {
   "cell_type": "markdown",
   "metadata": {},
   "source": [
    "# Lidar specifications\n",
    "\n",
    "- laser beam divergence -> (degrees)\n",
    "- range/angle precision (influenced by errors and distance + beam divergence) -> (meters)\n",
    "- range/angle accuracy (influenced by errors) -> (meters)\n",
    "\n",
    "- horizontal field of view -> the horizontal area captured by the sensor (degrees)\n",
    "- horizontal (or azimuth) angular resolution -> smallest horizontal angle between two successive points (degrees)\n",
    "- horizontal points -> the number of horizontal points generated per scan\n",
    "- horizontal points -> horizontal field of view / horizontal angular resolution\n",
    "\n",
    "- vertical field of view -> the vertical area captured by the sensor (degrees)\n",
    "- vertical angular resolution -> smallest vertical angle between two successive points (degrees)\n",
    "- vertical points -> the number of rows of points generated per scan, also called channels or beams\n",
    "- vertical points = vertical field of view / vertical angular resolution\n",
    "\n",
    "- scan rate -> number of scans generated per second\n",
    "- points per second -> total number of points generated in a second\n",
    "- points per second = horizontal points * vertical points * scan rate\n",
    "\n",
    "- laser class safety\n",
    "\n",
    "- minimum range -> smallest distance from target from which the sensor can operate (meters)\n",
    "- maximum range -> biggest distance from target from which the sensor can operate (meters)\n",
    "\n",
    "interaction between metrics, but marketing people tend to hide it"
   ]
  }
 ],
 "metadata": {
  "kernelspec": {
   "display_name": "Python 3",
   "language": "python",
   "name": "python3"
  },
  "language_info": {
   "codemirror_mode": {
    "name": "ipython",
    "version": 3
   },
   "file_extension": ".py",
   "mimetype": "text/x-python",
   "name": "python",
   "nbconvert_exporter": "python",
   "pygments_lexer": "ipython3",
   "version": "3.6.9"
  },
  "toc-autonumbering": true,
  "toc-showcode": false,
  "toc-showtags": false
 },
 "nbformat": 4,
 "nbformat_minor": 4
}

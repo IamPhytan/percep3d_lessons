{
 "cells": [
  {
   "cell_type": "markdown",
   "metadata": {},
   "source": [
    "<p style=\"text-align: center;font-size: 40pt\">\n",
    "Overview of lidars\n",
    "<br/>\n",
    "<img src=\"images/car_with_lidar.jpg\" width=\"65%\">\n",
    "</p>"
   ]
  },
  {
   "cell_type": "markdown",
   "metadata": {},
   "source": [
    "# Introduction\n",
    "\n",
    "Lidars (LIght Detection And Ranging) are one of the most common sensors one can find on autonomous vehicles. The reason behind their popularity is that they are becoming more and more affordable and provide rich 3D information about their surroundings. In this lesson, you will learn the basics of how lidars work and what are their limitations. "
   ]
  },
  {
   "cell_type": "markdown",
   "metadata": {},
   "source": [
    "# Basic principle\n",
    "\n",
    "First of all, what is a lidar? Well, a 1D lidar would be a laser range finder, you know, those small devices used to measure a distance using a laser. Knowing the time it takes for a laser pulse to travel all the way to a surface and back to the sensor as well as the speed at which it travels (the speed of light), you can compute the distance between the sensor and a surface.\n",
    "\n",
    "<p style=\"text-align: center;\">\n",
    "<img src=\"images/1d_lidar.svg\" width=\"50%\">\n",
    "</p>\n",
    "\n",
    "If you take this laser and point it to a mirror rotating along the Z axis, you can _scan_ a line around the sensor, meaning you now have a 2D lidar. The output of such a lidar is no longer a single distance (or point), but a set of points (i.e. a point cloud). The position of a point is computed using the time it takes for a laser pulse to bounce back to the sensor as well as the mirror angle at the moment at which the pulse was fired. This will give you an angle and a distance (i.e. [polar coordinates](https://en.wikipedia.org/wiki/Polar_coordinate_system)), which can then be converted to [2D Cartesian coordinates](https://en.wikipedia.org/wiki/Cartesian_coordinate_system#Cartesian_coordinates_in_two_dimensions) (in the frame of the lidar).\n",
    "\n",
    "<p style=\"text-align: center;\">\n",
    "<img src=\"images/2d_lidar.gif\" width=\"15%\">\n",
    "</p>\n",
    "\n",
    "Finally, if you take multiple lasers (or channels or beams) with a small angle offset between them and point them to the good old rotating mirror, you can _scan_ multiple lines (at different heights) around the sensor, which means you now have a 3D lidar. The title image of this notebook shows the output of such a lidar. If you look carefully at the layout of the points, you will be able to see the scan lines (or rings) of the different lasers around the sensor. When computing the position of a point, the only difference with a 2D lidar is that points are prescribed by two angles: the vertical angle (i.e. channel angle) as well as the horizontal/azimuth angle (i.e. mirror angle). Therefore, you will have two angles and one distance (i.e. [spherical coordinates](https://en.wikipedia.org/wiki/Spherical_coordinate_system)), which can then be converted to [3D Cartesian coordinates](https://en.wikipedia.org/wiki/Cartesian_coordinate_system#Cartesian_coordinates_in_three_dimensions) (in the frame of the lidar)."
   ]
  },
  {
   "cell_type": "markdown",
   "metadata": {},
   "source": [
    "# Now, in real life\n",
    "\n",
    "- angle of incidence / object reflectance -> absorption / diffusion / reflection -> returned pulse intensity is decreased or null\n",
    "- laser beam is a cone, not a line -> precision decreases with distance\n",
    "- multiple returns -> multiple points with one pulse\n",
    "- sensor is assumed to be static during scans -> it isn't"
   ]
  },
  {
   "cell_type": "markdown",
   "metadata": {},
   "source": [
    "# Error sources\n",
    "\n",
    "- multiple returns averaged -> shadow points\n",
    "- specular reflections -> virtual points\n",
    "- angle uncertainty (mechanism) -> error in angle\n",
    "- peak detection + clock accuracy -> error in time\n",
    "- sensor temperature -> error in time\n",
    "- bias (distance + angle of incidence) -> error in time\n",
    "- refraction -> error in time"
   ]
  },
  {
   "cell_type": "markdown",
   "metadata": {},
   "source": [
    "# Lidar specifications\n",
    "\n",
    "- laser beam divergence -> (degrees)\n",
    "- range/angle precision (influenced by errors and distance + beam divergence) -> (meters)\n",
    "- range/angle accuracy (influenced by errors) -> (meters)\n",
    "\n",
    "- horizontal field of view -> the horizontal area captured by the sensor (degrees)\n",
    "- horizontal (or azimuth) angular resolution -> smallest horizontal angle between two successive points (degrees)\n",
    "- horizontal points -> the number of horizontal points generated per scan\n",
    "- horizontal points -> horizontal field of view / horizontal angular resolution\n",
    "\n",
    "- vertical field of view -> the vertical area captured by the sensor (degrees)\n",
    "- vertical angular resolution -> smallest vertical angle between two successive points (degrees)\n",
    "- vertical points -> the number of rows of points generated per scan, also called channels or beams\n",
    "- vertical points = vertical field of view / vertical angular resolution\n",
    "\n",
    "- scan rate -> number of scans generated per second\n",
    "- points per second -> total number of points generated in a second\n",
    "- points per second = horizontal points * vertical points * scan rate\n",
    "\n",
    "- laser class safety\n",
    "\n",
    "- minimum range -> smallest distance from target from which the sensor can operate (meters)\n",
    "- maximum range -> biggest distance from target from which the sensor can operate (meters)\n",
    "\n",
    "interaction between metrics, but marketing people tend to hide it"
   ]
  }
 ],
 "metadata": {
  "kernelspec": {
   "display_name": "Python 3",
   "language": "python",
   "name": "python3"
  },
  "language_info": {
   "codemirror_mode": {
    "name": "ipython",
    "version": 3
   },
   "file_extension": ".py",
   "mimetype": "text/x-python",
   "name": "python",
   "nbconvert_exporter": "python",
   "pygments_lexer": "ipython3",
   "version": "3.6.9"
  }
 },
 "nbformat": 4,
 "nbformat_minor": 4
}

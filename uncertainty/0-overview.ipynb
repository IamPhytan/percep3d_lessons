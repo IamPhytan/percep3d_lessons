{
 "cells": [
  {
   "cell_type": "markdown",
   "metadata": {
    "slideshow": {
     "slide_type": "slide"
    }
   },
   "source": [
    "<p style=\"text-align: center;font-size: 40pt\">Module</p>\n",
    "<p style=\"text-align: center;font-size: 20pt\">Uncertainty</p>"
   ]
  },
  {
   "cell_type": "markdown",
   "metadata": {},
   "source": [
    "# Overview\n",
    "\n",
    "Requirements:\n",
    "\n",
    "- Prior knowledge on statistics\n",
    "\n",
    "Objectives:\n",
    "\n",
    "- Introduce uncertainty in 3D\n",
    "- Explain how to use uncertainty to extract spatial features\n",
    "\n",
    "Time planning:\n",
    "   - Expect a total of XX hours\n",
    "   - XX % for three reading activities \n",
    "   - XX % for three exercises"
   ]
  },
  {
   "cell_type": "markdown",
   "metadata": {},
   "source": [
    "# Activities\n",
    "\n",
    "TODO\n",
    "\n",
    "Here is the list of activities for this theoretical module:\n",
    "\n",
    "1. [Descriptive statistics](1-lesson_descriptive_statistics.ipynb) + [exercises](../../exercises/uncertainty/1e-exercises_descriptive_statistics.ipynb)\n",
    "1. [Uncertainty in 3D](2-lesson_uncertainty.ipynb)\n",
    "1. [Differential geometry](3-lesson_diff_geo.ipynb)\n"
   ]
  },
  {
   "cell_type": "markdown",
   "metadata": {},
   "source": [
    "&#8635; [Go back to the list of modules](../lecture_overview.ipynb#List-of-modules)"
   ]
  },
  {
   "cell_type": "markdown",
   "metadata": {},
   "source": [
    "<p style=\"text-align:center\">\n",
    "<img src=\"../../common/images/module_5.jpeg\" width=100%/>\n",
    "</p>"
   ]
  }
 ],
 "metadata": {
  "kernelspec": {
   "display_name": "Python 3",
   "language": "python",
   "name": "python3"
  },
  "language_info": {
   "codemirror_mode": {
    "name": "ipython",
    "version": 3
   },
   "file_extension": ".py",
   "mimetype": "text/x-python",
   "name": "python",
   "nbconvert_exporter": "python",
   "pygments_lexer": "ipython3",
   "version": "3.8.3"
  }
 },
 "nbformat": 4,
 "nbformat_minor": 4
}

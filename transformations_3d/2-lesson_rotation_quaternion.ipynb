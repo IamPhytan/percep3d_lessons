{
 "cells": [
  {
   "cell_type": "markdown",
   "metadata": {
    "slideshow": {
     "slide_type": "slide"
    }
   },
   "source": [
    "<p style=\"text-align: center;font-size: 40pt\">Rotation in 3D - quaternion</p>"
   ]
  },
  {
   "cell_type": "code",
   "execution_count": 1,
   "metadata": {},
   "outputs": [],
   "source": [
    "%matplotlib widget\n",
    "#%matplotlib inline\n",
    "\n",
    "import matplotlib.pyplot as plt\n",
    "from mpl_toolkits import mplot3d\n",
    "\n",
    "\n",
    "import numpy as np\n",
    "\n",
    "import ipywidgets as widgets\n",
    "\n",
    "%run ./scripts/helper_func.py\n",
    "path = \"{0}/lessons/transformations_2d/scripts/helper_func.py\".format(get_root_path())\n",
    "%run $path\n",
    "path = \"{0}/common/scripts/style.py\".format(get_root_path())\n",
    "%run $path"
   ]
  },
  {
   "cell_type": "markdown",
   "metadata": {},
   "source": [
    "# Overview \n",
    "\n",
    "Requirements\n",
    "- [Coordinate systems in 3D](./1-lesson_coordinates_3d.ipynb)\n",
    "\n",
    "Objectives of this lesson:\n",
    "\n",
    "- TODO\n"
   ]
  },
  {
   "cell_type": "markdown",
   "metadata": {},
   "source": [
    "Hidden custom latex commands here $ \\curvearrowright$\n",
    "\n",
    "----\n",
    "[comment]: <> (General commands)\n",
    "$\\newcommand{\\textcomma}{\\quad\\text{,}}$\n",
    "$\\newcommand{\\textdot}{\\quad\\text{.}}$\n",
    "$\\newcommand{\\vec}[1]{\\overrightarrow{#1}}$\n",
    "$\\newcommand{\\mat}[1]{\\mathbf{#1}}$\n",
    "$\\newcommand{\\frame}[1]{\\mathcal{#1}}$\n",
    "$\\newcommand{\\point}[2][]{{}^{#1}\\mathbf{#2}}$\n",
    "$\\newcommand{\\pointsym}[2][]{{}^{#1}\\boldsymbol{#2}}$\n",
    "$\\newcommand{\\matsym}[1]{\\boldsymbol{#1}}$\n",
    "$\\newcommand{\\real}{\\mathbb{R}}$\n",
    "$\\newcommand{\\bmat}[1]{\\begin{bmatrix}#1\\end{bmatrix}}$\n",
    "$\\newcommand{\\F}[2][]{{}_{#2}^{#1}\\mathscr{F}}$\n",
    "$\\newcommand{\\Fmat}[2][]{{}_{#2}^{#1}\\mat{F}}$\n",
    "$\\newcommand{\\origin}[2][]{{}_{#2}^{#1}\\mat{o}}$\n",
    "$\\newcommand{\\T}[2][]{{}_{#2}^{#1}\\mat{T}}$\n",
    "$\\newcommand{\\t}[2][]{{}_{#2}^{#1}\\mat{t}}$\n",
    "$\\newcommand{\\R}[2][]{{}_{#2}^{#1}\\mat{R}}$\n",
    "$\\newcommand{\\f}{\\vec{\\mathscr{f}}}$\n",
    "$\\newcommand{\\ax}[2][]{{}_{#2}^{#1}\\vec{\\mathscr{x}}}$\n",
    "$\\newcommand{\\ay}[2][]{{}_{#2}^{#1}\\vec{\\mathscr{y}}}$\n",
    "$\\newcommand{\\az}[2][]{{}_{#2}^{#1}\\vec{\\mathscr{z}}}$\n",
    "$\\newcommand{\\aw}[2][]{{}_{#2}^{#1}\\vec{\\mathscr{w}}}$\n",
    "$\\newcommand{\\axi}{\\mathscr{x}}$\n",
    "$\\newcommand{\\ayi}{\\mathscr{y}}$\n",
    "$\\newcommand{\\azi}{\\mathscr{z}}$\n",
    "$\\newcommand{\\awi}{\\mathscr{w}}$\n",
    "$\\newcommand{\\pointx}[2][]{{}^{#1}{#2}_{\\axi}}$\n",
    "$\\newcommand{\\pointy}[2][]{{}^{#1}{#2}_{\\ayi}}$\n",
    "$\\newcommand{\\pointz}[2][]{{}^{#1}{#2}_{\\azi}}$\n",
    "$\\newcommand{\\SO}[1]{\\mathrm{SO}(#1)}$\n",
    "----"
   ]
  },
  {
   "cell_type": "markdown",
   "metadata": {},
   "source": [
    "For me, and this is clearly a personal opinion, quaternions are the [Decepticon](https://en.wikipedia.org/wiki/Decepticon) of rotations.\n",
    "Don't get me wrong, they are great and have huge implication in mathematics, but for rotations people tend to over sell them.\n",
    "Also, just like Decepticons, if you don't know them you might be scared by them.\n",
    "I could just say that the spawn from three imaginary axis from Cybertron.\n",
    "Unless you are a mathematician, your eyes are already melting and your brain is a little confuse.\n",
    "Fear not, you are more prepared than you think coming from the lesson on axis-angle rotations.\n",
    "In this lesson, I won't go into details about Hamiltonian mechanics and we will focus on a geometrical interpretation of **unit** quaternions with the only goal of using them for 3D rotations.\n",
    "\n",
    "<p style=\"text-align:center\">\n",
    "<img src=\"./images/decepticon.png\" width=25% alt=\"License: Creative Commons 4.0 BY-NC\"/>\n",
    "<br>\n",
    "Yep, I'm making jokes about Transformers. \n",
    "It's a lecture about robots after all.\n",
    "</p>\n",
    "\n",
    "\n",
    "First, let's recall the parametrization for axis-angle rotations:\n",
    "\n",
    "\\begin{aligned}\n",
    "\\matsym{\\theta} = \\{\\mat{e}, \\theta\\}\n",
    "\\textdot\n",
    "\\end{aligned}\n",
    "\n",
    "At this point, you should know that $\\mat{e}$ is the axis of rotation and $\\theta$ is the angle producing the rotation around that axis.\n",
    "If $\\theta = 0$, nothing happen and it's the same thing as multiplying a point by the identity matrix.\n",
    "The following figure is taken from the last lesson and just there to help you visualize the axis and the angle.\n",
    "\n",
    "<p style=\"text-align:center\">\n",
    "<img src=\"./images/axis_angle.png\" width=50% alt=\"\"/>\n",
    "<br>\n",
    "Just as a recap from the last lesson.\n",
    "</p>"
   ]
  },
  {
   "cell_type": "markdown",
   "metadata": {},
   "source": [
    "# Parameters\n",
    "\n",
    "A quaternion $\\mat{q}$ are expressed as a vector 4 $\\times$ 1.\n",
    "Only unit quaternions can be used for rotations, so we have the additional constraint that $\\mat{q}^T \\mat{q} = 1$, which is the same as writing $||\\mat{q}|| = 1$.\n",
    "\n",
    "\\begin{aligned}\n",
    "\\mat{q} \n",
    "= \\bmat{\\matsym{\\epsilon} \\vphantom{\\frac{\\theta}{2}} \\\\ \\eta \\vphantom{\\frac{\\theta}{2}}}\n",
    "= \\bmat{\\left(\\sin \\frac{\\theta}{2} \\right) \\mat{e} \\\\ \\cos \\frac{\\theta}{2}}\n",
    "= \\bmat{\n",
    "\\left(\\sin \\frac{\\theta}{2} \\right) e_\\axi \\\\ \n",
    "\\left(\\sin \\frac{\\theta}{2} \\right) e_\\ayi \\\\ \n",
    "\\left(\\sin \\frac{\\theta}{2} \\right) e_\\azi \\\\ \n",
    "\\cos \\frac{\\theta}{2}}\n",
    "\\textdot\n",
    "\\end{aligned}\n",
    "\n",
    "Following this definition, it's clear that the vector $\\matsym{\\epsilon}$ is simply the rotation vector $\\mat{e}$ scaled by $\\sin \\frac{\\theta}{2}$.\n",
    "This expression is very similar to our axis-angle notation $\\matsym{\\theta} = \\theta \\mat{e}$.\n",
    "At this stage, if you found axis-angle rotations intuitive, just recall that quaternion is an axis-angle representation in disguise and you will be fine.\n",
    "A mnemonic trick for the symbols, recall that $\\mat{e}$ is also named the Euler axis, so you could say that $\\matsym{\\epsilon}$ is a modified version of that vector."
   ]
  },
  {
   "cell_type": "markdown",
   "metadata": {},
   "source": [
    "# Operations\n",
    "\n",
    ">TODO"
   ]
  },
  {
   "cell_type": "markdown",
   "metadata": {},
   "source": [
    "# Problem with conventions\n",
    "\n",
    "When we write $\\point{p} = \\bmat{3 & 5 & 8}^T$, it is implicit that $\\point{p} = \\bmat{p_\\axi & p_\\ayi & p_\\azi}^T$.\n",
    "In other words, when we receive blindly an array with three elements, we don't ask ourselves what does they mean.\n",
    "We know that the first element is associated to $\\ax{}$, the second one to $\\ay{}$ and the third one to $\\az{}$.\n",
    "But that is only by assuming a convention that everyone respect.\n",
    "Unfortunately, this is not the case with quaternions.\n",
    "\n",
    "In this lesson, I avoided the problem by using the vector component $\\epsilon$ et the scalar component $\\eta$.\n",
    "In most mathematic library, the components will be referred as `x`, `y`, `z`,  for the elements of the vector and `w` for the scalar.\n",
    "In which order you need to pass those parameters in a quaternion constructor will depend of the library.\n",
    "For example:\n",
    "\n",
    "- scipy and ROS expect you to provide an array `[x, y, z, w]`\n",
    "- Matlab and Eigen expect `[w, x, y, z]`\n",
    "\n",
    "Here is a good excerpt from Eigen's documentation:\n",
    "\n",
    "> Note the order of the arguments: the real `w` coefficient first, while internally the coefficients are stored in the following order: `[x, y, z, w]`.\n",
    "\n",
    "Now you know...\n",
    "\n",
    "> TODO: Hamilton vs JPL"
   ]
  },
  {
   "cell_type": "markdown",
   "metadata": {},
   "source": [
    "# Pros and cons\n",
    "\n",
    "- TODO \n",
    "\n"
   ]
  },
  {
   "cell_type": "markdown",
   "metadata": {},
   "source": [
    "# Conclusion\n",
    "\n",
    "You should do the following activities to enhance your understanding of the concepts viewed in this lesson:\n",
    "- play with the Python scripts provided;\n",
    "- do the [exercises](../../exercises/transformations_3d/2e-exercises_euler_angles.ipynb) related to this lesson, they are necessary to connect concepts;\n",
    "- modify the markdown by adding your own notes using `> my notes`; and\n",
    "- complete the tables [Symbol definitions](#Symbol-definitions) and [Glossary](#Glossary) and add your own definitions.\n",
    "\n",
    "Parallel lessons:\n",
    "- [Rotation matrix](2-lesson_rotation_mat.ipynb)\n",
    "- [Euler angles](2-lesson_rotation_euler_angles.ipynb)\n",
    "- [Quaternion](2-lesson_rotation_quaternion.ipynb)\n",
    "- [Lie algebra](2-lesson_rotation_lie.ipynb)\n",
    "\n",
    "Next lesson:\n",
    "- Rigid transformation in 3D"
   ]
  },
  {
   "cell_type": "markdown",
   "metadata": {},
   "source": [
    "## Symbol definitions\n",
    "\n",
    "| Symbol                      | Definition            |\n",
    "|--------------------         |-------------          |\n",
    "| $\\frame{A}$                 | A frame of reference  |\n",
    "| $\\F{A}$                     | set of basis vector of the frame of reference $\\frame{A}$ |\n",
    "| $\\ax{}$, $\\ay{}$ and $\\az{}$| 3D basis vectors      |\n",
    "| $x$                         | scalar                |\n",
    "| $\\vec{x}$                   | vector                |\n",
    "| $\\point{x}$                 | coordinates of a point|\n",
    "| $x_i$                       | $i^{\\text{th}}$ scalar of a set |\n",
    "| $\\real$                     | real set              |\n",
    "| $\\in$                       | ... is part of ...    |\n",
    "| $\\point{a}\\cdot\\point{b}$   | dot product           |\n",
    "| $\\times$                    | cross product         |\n",
    "| $\\|\\point{x}\\|$             | Euclidean norm of a vector $\\point{x}$  |\n",
    "| $\\matsym{\\Theta}_\\text{t}$, $\\mat{t}$  | translation parameters           |\n",
    "| $\\matsym{\\Lambda}$, $\\matsym{\\lambda}$ | scale (and reflexion) parameters |\n",
    "| $\\mat{M}$, $m_{ij}$           | shear parameters      |\n",
    "| $\\tilde{\\mat{R}}$           | reflection matrix     |\n",
    "| ...                         |                       |"
   ]
  },
  {
   "cell_type": "markdown",
   "metadata": {},
   "source": [
    "## Glossary\n",
    "\n",
    "| English               | Français                | Definition |\n",
    "|-----------            |------------             |------------|\n",
    "| frame of reference    | référentiel             |            |\n",
    "| basis vector          | vecteur de base         |            |\n",
    "| dot product           | produit scalaire        |            |\n",
    "| cross product         | produit vectoriel       |            |\n",
    "| scalar triple product | produit mixte           |            |\n",
    "| right-hand rule       | règle de la main droite |            |\n",
    "| scale                 | dilatation              |            |\n",
    "| shear                 | transvection            |            |\n",
    "| affine                | transformation affine   |            |\n",
    "| improper rotations    | antirotation            |            |\n",
    "| ...                   |                         |            |"
   ]
  }
 ],
 "metadata": {
  "kernelspec": {
   "display_name": "Python 3",
   "language": "python",
   "name": "python3"
  },
  "language_info": {
   "codemirror_mode": {
    "name": "ipython",
    "version": 3
   },
   "file_extension": ".py",
   "mimetype": "text/x-python",
   "name": "python",
   "nbconvert_exporter": "python",
   "pygments_lexer": "ipython3",
   "version": "3.8.3"
  }
 },
 "nbformat": 4,
 "nbformat_minor": 4
}

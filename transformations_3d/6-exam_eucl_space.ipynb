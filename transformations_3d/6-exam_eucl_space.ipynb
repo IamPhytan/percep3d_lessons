{
 "cells": [
  {
   "cell_type": "markdown",
   "metadata": {
    "slideshow": {
     "slide_type": "slide"
    }
   },
   "source": [
    "<p style=\"text-align: center;font-size: 40pt\">Exam<\\p>\n",
    "<p style=\"text-align: center;font-size: 20pt\">The curse of dimensionality<\\p>"
   ]
  },
  {
   "cell_type": "code",
   "execution_count": 1,
   "metadata": {},
   "outputs": [],
   "source": [
    "%run ./scripts/helper_func.py\n",
    "path = \"{0}/lessons/transformations_3d/scripts/exam_questions.py\".format(get_root_path())\n",
    "%run $path"
   ]
  },
  {
   "cell_type": "markdown",
   "metadata": {},
   "source": [
    "Hidden custom latex commands here $ \\curvearrowright$\n",
    "\n",
    "----\n",
    "[comment]: <> (General commands)\n",
    "$\\newcommand{\\textcomma}{\\quad\\text{,}}$\n",
    "$\\newcommand{\\textdot}{\\quad\\text{.}}$\n",
    "$\\newcommand{\\vec}[1]{\\overrightarrow{#1}}$\n",
    "$\\newcommand{\\mat}[1]{\\mathbf{#1}}$\n",
    "$\\newcommand{\\frame}[1]{\\mathcal{#1}}$\n",
    "$\\newcommand{\\point}[2][]{{}^{#1}\\mathbf{#2}}$\n",
    "$\\newcommand{\\pointsym}[2][]{{}^{#1}\\boldsymbol{#2}}$\n",
    "$\\newcommand{\\matsym}[1]{\\boldsymbol{#1}}$\n",
    "$\\newcommand{\\real}{\\mathbb{R}}$\n",
    "$\\newcommand{\\bmat}[1]{\\begin{bmatrix}#1\\end{bmatrix}}$\n",
    "$\\newcommand{\\F}[2][]{{}_{#2}^{#1}\\mathscr{F}}$\n",
    "$\\newcommand{\\Fmat}[2][]{{}_{#2}^{#1}\\mat{F}}$\n",
    "$\\newcommand{\\origin}[2][]{{}_{#2}^{#1}\\mat{o}}$\n",
    "$\\newcommand{\\T}[2][]{{}_{#2}^{#1}\\mat{T}}$\n",
    "$\\newcommand{\\t}[2][]{{}_{#2}^{#1}\\mat{t}}$\n",
    "$\\newcommand{\\R}[2][]{{}_{#2}^{#1}\\mat{R}}$\n",
    "$\\newcommand{\\f}{\\vec{\\mathscr{f}}}$\n",
    "$\\newcommand{\\ax}[2][]{{}_{#2}^{#1}\\vec{\\mathscr{x}}}$\n",
    "$\\newcommand{\\ay}[2][]{{}_{#2}^{#1}\\vec{\\mathscr{y}}}$\n",
    "$\\newcommand{\\az}[2][]{{}_{#2}^{#1}\\vec{\\mathscr{z}}}$\n",
    "$\\newcommand{\\aw}[2][]{{}_{#2}^{#1}\\vec{\\mathscr{w}}}$\n",
    "$\\newcommand{\\axi}{\\mathscr{x}}$\n",
    "$\\newcommand{\\ayi}{\\mathscr{y}}$\n",
    "$\\newcommand{\\azi}{\\mathscr{z}}$\n",
    "$\\newcommand{\\awi}{\\mathscr{w}}$\n",
    "$\\newcommand{\\pointx}[2][]{{}^{#1}{#2}_{\\axi}}$\n",
    "$\\newcommand{\\pointy}[2][]{{}^{#1}{#2}_{\\ayi}}$\n",
    "$\\newcommand{\\pointz}[2][]{{}^{#1}{#2}_{\\azi}}$\n",
    "$\\newcommand{\\SO}[1]{\\mathrm{SO}(#1)}$\n",
    "$\\newcommand{\\SE}[1]{\\mathrm{SE}(#1)}$\n",
    "$\\newcommand{\\cin}{\\color{green}{\\in}}$\n",
    "$\\newcommand{\\cnotin}{\\color{red}{\\notin}}$\n",
    "----"
   ]
  },
  {
   "cell_type": "markdown",
   "metadata": {},
   "source": [
    "There is a guy in 1956 that solved my problem.\n",
    "[Bloom's taxonomy](https://en.wikipedia.org/wiki/Bloom%27s_taxonomy).\n",
    "\n",
    "Goal: evaluate the following objectives of the lecture:\n",
    "- Understand the mathematical foundations for processing point clouds\n",
    "- Convert between different 3D rotation formalisms\n",
    "- Explain the advantages and disadvantages of the different rotation formalisms\n",
    "\n",
    "1.\tKnowledge\n",
    "1.\tComprehension\n",
    "1.\tApplication: \n",
    "1.\tAnalysis:\n",
    "\n",
    "Skill not covered by the exam:\n",
    "1.\tSynthesis\n",
    "1.\tEvaluation"
   ]
  },
  {
   "cell_type": "markdown",
   "metadata": {},
   "source": [
    "Points:\n",
    "- Question 1 (10 points)\n",
    "- Question 2 (10 points)\n",
    "- Question 3 ( 5 points)"
   ]
  },
  {
   "cell_type": "markdown",
   "metadata": {},
   "source": [
    "# What my exam will look like?\n",
    "\n",
    "During the exam, an instructor will run the following cell block.\n",
    "Three questions will be randomly draw from a list of questions.\n",
    "You run the function as much as you want to practice your exam.\n",
    "By far, your best training is to have a colleague asking you those questions, so you can verbalize the answer instead of keeping it in your head."
   ]
  },
  {
   "cell_type": "code",
   "execution_count": 7,
   "metadata": {},
   "outputs": [
    {
     "data": {
      "text/markdown": [
       "## Question 1 (10 points):"
      ],
      "text/plain": [
       "<IPython.core.display.Markdown object>"
      ]
     },
     "metadata": {},
     "output_type": "display_data"
    },
    {
     "data": {
      "text/markdown": [
       "1. EN: Give a disadvantage of rotation matrix over other rotation representation.\n",
       "\n",
       "   FR: _Donnez un désavantage des matrices de rotation par rapport aux autres représentation des rotations._\n"
      ],
      "text/plain": [
       "<IPython.core.display.Markdown object>"
      ]
     },
     "metadata": {},
     "output_type": "display_data"
    },
    {
     "data": {
      "text/markdown": [
       "## Question 2 (10 points):"
      ],
      "text/plain": [
       "<IPython.core.display.Markdown object>"
      ]
     },
     "metadata": {},
     "output_type": "display_data"
    },
    {
     "data": {
      "text/markdown": [
       "1. EN: Give an advantage of axis-angle representation over other rotation representation.\n",
       "\n",
       "   FR: _Donnez un avantage de la représentation axe-angle par rapport aux autres représentation des rotations._\n"
      ],
      "text/plain": [
       "<IPython.core.display.Markdown object>"
      ]
     },
     "metadata": {},
     "output_type": "display_data"
    },
    {
     "data": {
      "text/markdown": [
       "## Question 3 (5 points):"
      ],
      "text/plain": [
       "<IPython.core.display.Markdown object>"
      ]
     },
     "metadata": {},
     "output_type": "display_data"
    },
    {
     "data": {
      "text/markdown": [
       "1. EN: What is the result of the cross product?\n",
       "\n",
       "   FR: _Quel est le résultat d'un produit vectoriel ?_\n"
      ],
      "text/plain": [
       "<IPython.core.display.Markdown object>"
      ]
     },
     "metadata": {},
     "output_type": "display_data"
    }
   ],
   "source": [
    "exam = Exam_eucl_space()\n",
    "exam.random_sampling()"
   ]
  },
  {
   "cell_type": "markdown",
   "metadata": {},
   "source": [
    "# How can I prepare for the exam?\n",
    "\n",
    "I'm a very open person, just run the following code block to see them all!\n",
    "Recall that those questions are the starting point of a conversation on that topic.\n",
    "Simply memorising the answers will give you a passing grade, not much more. "
   ]
  },
  {
   "cell_type": "code",
   "execution_count": 6,
   "metadata": {},
   "outputs": [
    {
     "data": {
      "text/markdown": [
       "1. EN: What is the operator associated with a rotation matrix that define the Special Euclidean group?\n",
       "\n",
       "   FR: _Quelle opération associée à une matrice de rotation permet de définir le groupe euclidien spécial ?_\n",
       "1. EN: What is the identity element of the Special orthogonal group?\n",
       "\n",
       "   FR: _Quel est l'élément neutre du groupe orthogonal spécial ?_\n",
       "1. EN: What is defining a frame of reference?\n",
       "\n",
       "   FR: _Qu'est-ce qui définit un référentiel ?_\n",
       "1. EN: What is a gimbal lock?\n",
       "\n",
       "   FR: _Qu'est-ce qu'un blocage de cardan ?_\n",
       "1. EN: Express the following quaternion $1 + 2i + 3j + 4k$ as a vector.\n",
       "\n",
       "   FR: _Exprimez le quaternion $1 + 2i + 3j + 4k$ en vecteur._\n",
       "1. EN: Give an advantage of axis-angle representation over other rotation representation.\n",
       "\n",
       "   FR: _Donnez un avantage de la représentation axe-angle par rapport aux autres représentation des rotations._\n",
       "1. EN: Give a disadvantage of quaternion over other rotation representation.\n",
       "\n",
       "   FR: _Donnez un désavantage des quaternions par rapport aux autres représentation des rotations._\n",
       "1. EN: Give a disadvantage of Euler angles over other rotation representation.\n",
       "\n",
       "   FR: _Donnez un désavantage de la représentation des angles d'Euler par rapport aux autres représentation des rotations._\n",
       "1. EN: What is the difference between $\\SO{3}$ and $\\SE{3}$?\n",
       "\n",
       "   FR: _Quelle est la différence entre $\\SO{3}$ and $\\SE{3}$ ?_\n",
       "1. EN: What is or are the constraints defining a quaternion?\n",
       "\n",
       "   FR: _Quelles sont la/les contraintes définissant un quaternion ?_\n",
       "1. EN: What is the operation connecting the cross product and the dot product?\n",
       "\n",
       "   FR: _Quel opération relie le produit vectoriel et le produit scalaire ?_\n",
       "1. EN: What is the link between a rotation matrix and a frame of reference?\n",
       "\n",
       "   FR: _Quel est le lien entre une matrice de rotation et un référentiel ?_\n",
       "1. EN: Explain what are nautical angles.\n",
       "\n",
       "   FR: _Expliquez qu'est que les angles nautiques._\n",
       "1. EN: Give an advantage of quaternion over other rotation representation.\n",
       "\n",
       "   FR: _Donnez un avantage des quaternions par rapport aux autres représentation des rotations._\n",
       "1. EN: In the axis-angle representation, what happen to the axis when $\\theta=0$?\n",
       "\n",
       "   FR: _Dans la représentation axe-angle, qu'arrive-t-il à l'axe lorsque $\\theta=0$ ?_\n",
       "1. EN: What is the identity element of the Special Euclidean group?\n",
       "\n",
       "   FR: _Quel est l'élément neutre du groupe euclidien spécial ?_\n",
       "1. EN: What is or are the constraints defining a rotation matrix?\n",
       "\n",
       "   FR: _Quelles sont la/les contraintes définissant une matrice de rotation ?_\n",
       "1. EN: What format would have a point cloud that needs to be transformed by a matrix in $\\SO{3}$ using a single matrix multiplication?\n",
       "\n",
       "   FR: _Quel format aurait un nuage de point devant être transformé par un matrice faisant partie de $\\SO{3}$ en utilisant une seule multiplication matricielle ?_\n",
       "1. EN: What is the difference between an intrinsic and an extrinsic rotation?\n",
       "\n",
       "   FR: _Quel est la différence entre une rotation une rotation intrinsèque et extrinsèque ?_\n",
       "1. EN: Give a disadvantage of rotation matrix over other rotation representation.\n",
       "\n",
       "   FR: _Donnez un désavantage des matrices de rotation par rapport aux autres représentation des rotations._\n",
       "1. EN: Give an advantage of Euler angles over other rotation representation.\n",
       "\n",
       "   FR: _Donnez un avantage de la représentation des angles d'Euler par rapport aux autres représentation des rotations._\n",
       "1. EN: What is the difference between proper Euler and Tait–Bryan angles?\n",
       "\n",
       "   FR: _Quelle est la différence entre les angles originaux d'Euler et les angles Tait-Bryan ?_\n",
       "1. EN: What format would have a point cloud that needs to be transformed by a matrix in $\\SE{3}$ using a single matrix multiplication?\n",
       "\n",
       "   FR: _Quel format aurait un nuage de point devant être transformé par un matrice faisant partie de $\\SE{3}$ en utilisant une seule multiplication matricielle ?_\n",
       "1. EN: What is the link between a rotation matrix and a reflexion matrix?\n",
       "\n",
       "   FR: _Quel est le lien entre une matrice de rotation et une matrice de réflection ?_\n",
       "1. EN: What is a principal rotation?\n",
       "\n",
       "   FR: _Qu'est-ce qu'une rotation de base ?_\n",
       "1. EN: How to compute the distance between two rotation matrices?\n",
       "\n",
       "   FR: _Comment calculer la distance entre deux matrices de rotation ?_\n",
       "1. EN: Which homogeneous coordinates cannot be expressed in cartesian coordinates?\n",
       "\n",
       "   FR: _Quelles coordonnées homogènes ne peuvent pas être exprimées en coordonnées cartésiennes ?_\n",
       "1. EN: In the axis-angle representation, what happen to the axis when $\\theta=\\pi$?\n",
       "\n",
       "   FR: _Dans la représentation axe-angle, qu'arrive-t-il à l'axe lorsque $\\theta=\\pi$ ?_\n",
       "1. EN: What is the minimal number of parameters required to represent a 3D rotation?\n",
       "\n",
       "   FR: _Quel est le nombre minimal de paramètres requis pour représenter une rotation ?_\n",
       "1. EN: Give a disadvantage of axis-angle representation over other rotation representation.\n",
       "\n",
       "   FR: _Donnez un désavantage de la représentation axe-angle par rapport aux autres représentation des rotations._\n",
       "1. EN: What is the result of the cross product?\n",
       "\n",
       "   FR: _Quel est le résultat d'un produit vectoriel ?_\n",
       "1. EN: Give an advantage of rotation matrix over other rotation representation.\n",
       "\n",
       "   FR: _Donnez un avantage des matrices de rotation par rapport aux autres représentation des rotations._\n",
       "1. EN: What is the operator associated with a rotation matrix that define the Special orthogonal group?\n",
       "\n",
       "   FR: _Quelle opération associée à une matrice de rotation permet de définir le groupe orthogonal spécial ?_\n",
       "1. EN: What is or are the constraints defining an axis-angle representation?\n",
       "\n",
       "   FR: _Quelles sont la/les contraintes définissant la représentation axe-angle ?_\n",
       "1. EN: What are the four parameters of a quaternion producing no rotation?\n",
       "\n",
       "   FR: _Quels sont les quatre paramètres d'un quaternion ne produisant aucune rotation ?_\n",
       "1. EN: How many different shear matrices are possible in 3D?\n",
       "\n",
       "   FR: _Combien de matrices de transvection sont possibles en 3D ?_\n"
      ],
      "text/plain": [
       "<IPython.core.display.Markdown object>"
      ]
     },
     "metadata": {},
     "output_type": "display_data"
    }
   ],
   "source": [
    "exam.show_all()"
   ]
  }
 ],
 "metadata": {
  "kernelspec": {
   "display_name": "Python 3",
   "language": "python",
   "name": "python3"
  },
  "language_info": {
   "codemirror_mode": {
    "name": "ipython",
    "version": 3
   },
   "file_extension": ".py",
   "mimetype": "text/x-python",
   "name": "python",
   "nbconvert_exporter": "python",
   "pygments_lexer": "ipython3",
   "version": "3.6.9"
  }
 },
 "nbformat": 4,
 "nbformat_minor": 4
}

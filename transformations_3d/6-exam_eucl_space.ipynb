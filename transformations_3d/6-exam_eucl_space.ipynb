{
 "cells": [
  {
   "cell_type": "markdown",
   "metadata": {
    "slideshow": {
     "slide_type": "slide"
    }
   },
   "source": [
    "<p style=\"text-align: center;font-size: 40pt\">Exam<\\p>\n",
    "<p style=\"text-align: center;font-size: 20pt\">The curse of dimensionality<\\p>"
   ]
  },
  {
   "cell_type": "markdown",
   "metadata": {},
   "source": [
    "There is a guy in 1956 that solved my problem.\n",
    "[Bloom's taxonomy](https://en.wikipedia.org/wiki/Bloom%27s_taxonomy).\n",
    "\n",
    "1.\tKnowledge\n",
    "1.\tComprehension\n",
    "1.\tApplication: Convert between different 3D rotation formalism\n",
    "1.\tAnalysis: Explain the advantages and disadvantages of the different rotation formalism.\n",
    "1.\tSynthesis\n",
    "1.\tEvaluation"
   ]
  },
  {
   "cell_type": "markdown",
   "metadata": {},
   "source": [
    "List of potential questions:\n",
    "\n",
    "1. How to compute the distance between two rotation matrices?\n",
    "   - _Comment calculer la distance entre deux matrices de rotation ?_\n",
    "  \n",
    "1. What is a gimbal lock?\n",
    "   - _Qu'est-ce qu'un blocage de cardan ?_\n",
    "  \n",
    "1. What is the identity element of the Special orthogonal group?\n",
    "   - _Quel est l'élément neutre du groupe orthogonal spécial ?_\n",
    "   \n",
    "1. What is the identity element of the Special Euclidean group?\n",
    "   - _Quel est l'élément neutre du groupe euclidien spécial ?_\n",
    "   \n",
    "1. What is the operator associated with a rotation matrix that define the Special orthogonal group?\n",
    "   - _Quelle opération associée à une matrice de rotation permet de définir le groupe orthogonal spécial ?_\n",
    "   \n",
    "1. What is the operator associated with a rotation matrix that define the Special Euclidean group?\n",
    "   - _Quelle opération associée à une matrice de rotation permet de définir le groupe euclidien spécial ?_\n",
    "\n",
    "1. What is or are the constraints defining a rotation matrix?\n",
    "1. What is or are the constraints defining a quaternion?\n",
    "1. What is or are the constraints defining an axis-angle representation?\n",
    "1. What is the link between a rotation matrix and a frame of reference?\n",
    "1. What is the difference between an intrinsic and an extrinsic rotation?\n",
    "1. Give an advantage of rotation matrix over other rotation representation.\n",
    "1. Give a disadvantage of rotation matrix over other rotation representation.\n",
    "1. Give an advantage of quaternion over other rotation representation.\n",
    "1. Give a disadvantage of quaternion over other rotation representation.\n",
    "1. Give an advantage of Euler angles over other rotation representation.\n",
    "1. Give a disadvantage of Euler angles over other rotation representation.\n",
    "1. Give an advantage of axis-angle representation over other rotation representation.\n",
    "1. Give a disadvantage of axis-angle representation over other rotation representation.\n",
    "1. What is the link between a rotation matrix and a reflexion matrix?\n",
    "1. What is the minimal number of parameters required to represent a 3D rotation?"
   ]
  }
 ],
 "metadata": {
  "kernelspec": {
   "display_name": "Python 3",
   "language": "python",
   "name": "python3"
  },
  "language_info": {
   "codemirror_mode": {
    "name": "ipython",
    "version": 3
   },
   "file_extension": ".py",
   "mimetype": "text/x-python",
   "name": "python",
   "nbconvert_exporter": "python",
   "pygments_lexer": "ipython3",
   "version": "3.8.3"
  }
 },
 "nbformat": 4,
 "nbformat_minor": 4
}

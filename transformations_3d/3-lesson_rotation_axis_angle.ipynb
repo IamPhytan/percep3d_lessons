{
 "cells": [
  {
   "cell_type": "markdown",
   "metadata": {
    "slideshow": {
     "slide_type": "slide"
    }
   },
   "source": [
    "<p style=\"text-align: center;font-size: 40pt\">Rotation in 3D - axis-angle</p>"
   ]
  },
  {
   "cell_type": "code",
   "execution_count": 1,
   "metadata": {},
   "outputs": [],
   "source": [
    "%matplotlib widget\n",
    "#%matplotlib inline\n",
    "\n",
    "import matplotlib.pyplot as plt\n",
    "from mpl_toolkits import mplot3d\n",
    "\n",
    "\n",
    "import numpy as np\n",
    "\n",
    "import ipywidgets as widgets\n",
    "\n",
    "%run ./scripts/helper_func.py\n",
    "path = \"{0}/lessons/transformations_2d/scripts/helper_func.py\".format(get_root_path())\n",
    "%run $path\n",
    "path = \"{0}/common/scripts/style.py\".format(get_root_path())\n",
    "%run $path"
   ]
  },
  {
   "cell_type": "markdown",
   "metadata": {},
   "source": [
    "# Overview \n",
    "\n",
    "Requirements\n",
    "- [Rotation matrix](2-lesson_rotation_mat.ipynb)\n",
    "\n",
    "Objectives of this lesson:\n",
    "\n",
    "- Introduce Euler's Theorem\n",
    "- Present the Rodrigues' rotation formula and its derivation\n",
    "- Give pros and cons for using axis-angle representation\n"
   ]
  },
  {
   "cell_type": "markdown",
   "metadata": {},
   "source": [
    "Hidden custom latex commands here $ \\curvearrowright$\n",
    "\n",
    "----\n",
    "[comment]: <> (General commands)\n",
    "$\\newcommand{\\textcomma}{\\quad\\text{,}}$\n",
    "$\\newcommand{\\textdot}{\\quad\\text{.}}$\n",
    "$\\newcommand{\\vec}[1]{\\overrightarrow{#1}}$\n",
    "$\\newcommand{\\mat}[1]{\\mathbf{#1}}$\n",
    "$\\newcommand{\\frame}[1]{\\mathcal{#1}}$\n",
    "$\\newcommand{\\point}[2][]{{}^{#1}\\mathbf{#2}}$\n",
    "$\\newcommand{\\pointsym}[2][]{{}^{#1}\\boldsymbol{#2}}$\n",
    "$\\newcommand{\\matsym}[1]{\\boldsymbol{#1}}$\n",
    "$\\newcommand{\\real}{\\mathbb{R}}$\n",
    "$\\newcommand{\\bmat}[1]{\\begin{bmatrix}#1\\end{bmatrix}}$\n",
    "$\\newcommand{\\F}[2][]{{}_{#2}^{#1}\\mathscr{F}}$\n",
    "$\\newcommand{\\Fmat}[2][]{{}_{#2}^{#1}\\mat{F}}$\n",
    "$\\newcommand{\\origin}[2][]{{}_{#2}^{#1}\\mat{o}}$\n",
    "$\\newcommand{\\T}[2][]{{}_{#2}^{#1}\\mat{T}}$\n",
    "$\\newcommand{\\t}[2][]{{}_{#2}^{#1}\\mat{t}}$\n",
    "$\\newcommand{\\R}[2][]{{}_{#2}^{#1}\\mat{R}}$\n",
    "$\\newcommand{\\f}{\\vec{\\mathscr{f}}}$\n",
    "$\\newcommand{\\ax}[2][]{{}_{#2}^{#1}\\vec{\\mathscr{x}}}$\n",
    "$\\newcommand{\\ay}[2][]{{}_{#2}^{#1}\\vec{\\mathscr{y}}}$\n",
    "$\\newcommand{\\az}[2][]{{}_{#2}^{#1}\\vec{\\mathscr{z}}}$\n",
    "$\\newcommand{\\aw}[2][]{{}_{#2}^{#1}\\vec{\\mathscr{w}}}$\n",
    "$\\newcommand{\\axi}{\\mathscr{x}}$\n",
    "$\\newcommand{\\ayi}{\\mathscr{y}}$\n",
    "$\\newcommand{\\azi}{\\mathscr{z}}$\n",
    "$\\newcommand{\\awi}{\\mathscr{w}}$\n",
    "$\\newcommand{\\pointx}[2][]{{}^{#1}{#2}_{\\axi}}$\n",
    "$\\newcommand{\\pointy}[2][]{{}^{#1}{#2}_{\\ayi}}$\n",
    "$\\newcommand{\\pointz}[2][]{{}^{#1}{#2}_{\\azi}}$\n",
    "$\\newcommand{\\SO}[1]{\\mathrm{SO}(#1)}$\n",
    "----"
   ]
  },
  {
   "cell_type": "markdown",
   "metadata": {},
   "source": [
    "# Parameters\n",
    "\n",
    "You can find two similar notations for axis-angle rotation parameters.\n",
    "The first version is more explicit and defines $\\matsym{\\theta}$ as a set holding an axis of rotation $\\vec{e}$ and an angle of rotation $\\theta$, as in\n",
    "\n",
    "\\begin{aligned}\n",
    "\\matsym{\\theta} = \\{\\mat{e}, \\theta\\}\n",
    "\\textdot\n",
    "\\end{aligned}\n",
    "\n",
    "\n",
    "The second version defines $\\matsym{\\theta} \\in \\real^{3}$, such that\n",
    "\n",
    "\\begin{aligned}\n",
    "\\matsym{\\theta} = \\theta \\mat{e}\n",
    "\\textcomma\n",
    "\\end{aligned}\n",
    "\n",
    "so the magnitude of $\\matsym{\\theta}$ is the rotation angle.\n",
    "Both of these notations give exactly the same result."
   ]
  },
  {
   "cell_type": "markdown",
   "metadata": {},
   "source": [
    "## Euler's Theorem\n",
    "\n",
    "In 1775, [Leonhard Euler](https://en.wikipedia.org/wiki/Leonhard_Euler), proved that\n",
    "> In three-dimensional space, any displacement of a rigid body such that a point on the rigid body remains fixed, is equivalent to a single rotation about some axis that runs through the fixed point. \n",
    "\n",
    "The vector in question is $\\vec{e}$ in our notation and it has a unit length.\n",
    "This vector is thus known as the Euler vector.\n",
    "To know in which direction points will move with a positive angle $\\theta$, you align your thumb with the axis $\\vec{e}$ and you fingers will point in the positive angle direction.\n",
    "Of course, you need to use your right hand.\n",
    "\n",
    "Using the following figure, you can try to anticipate in which direction the yellow points will move.\n",
    "For that:\n",
    "1. rotate the camera to understand the scene\n",
    "1. predict in which direction the yellow points will rotate\n",
    "1. play with the slider to see what happens\n",
    "1. change the value of `e` in the code to test another axis"
   ]
  },
  {
   "cell_type": "code",
   "execution_count": 2,
   "metadata": {},
   "outputs": [
    {
     "data": {
      "application/vnd.jupyter.widget-view+json": {
       "model_id": "00f384c400b24c0c86934b956d8d15ec",
       "version_major": 2,
       "version_minor": 0
      },
      "text/plain": [
       "Canvas(toolbar=Toolbar(toolitems=[('Home', 'Reset original view', 'home', 'home'), ('Back', 'Back to previous …"
      ]
     },
     "metadata": {},
     "output_type": "display_data"
    },
    {
     "data": {
      "application/vnd.jupyter.widget-view+json": {
       "model_id": "4020bb64794c47a18ab3d5122218b5e2",
       "version_major": 2,
       "version_minor": 0
      },
      "text/plain": [
       "interactive(children=(FloatSlider(value=0.0, description='theta', max=6.283185307179586, min=-6.28318530717958…"
      ]
     },
     "metadata": {},
     "output_type": "display_data"
    }
   ],
   "source": [
    "%matplotlib widget\n",
    "if 'fig' in globals():\n",
    "    plt.close(fig)\n",
    "    \n",
    "fig = plt.figure(figsize=(4,4))\n",
    "\n",
    "P = np.array([[-0.9, -1.1, -0.8],\n",
    "              [-1.1, -1.2, -1.2],\n",
    "              [1.1, 0.6, 0.8]])\n",
    "\n",
    "# rotation axis (make some change here)\n",
    "e = np.array([-1, -1, 1])\n",
    "\n",
    "# ensure that the vector e is normalized\n",
    "e = e/np.linalg.norm(e)\n",
    "\n",
    "axis_ang = Axis_angle(e)\n",
    "\n",
    "#------------------------\n",
    "# plot \n",
    "ax1 = fig.add_subplot(111, projection=\"3d\")\n",
    "ax = ax1\n",
    "ax.set_title(r\"Axis-angle representation\")\n",
    "\n",
    "# computation to draw the angle\n",
    "radius = 1.0\n",
    "anchor_axis = np.array([e[0]+radius, e[1], e[2]])\n",
    "anchor_axis = anchor_axis/np.linalg.norm(anchor_axis)\n",
    "\n",
    "if np.dot(anchor_axis, e) > 0.98:\n",
    "    anchor_axis = np.array([e[0], e[1]+radius, e[2]])\n",
    "    anchor_axis = anchor_axis/np.linalg.norm(anchor_axis)\n",
    "    \n",
    "anchor_axis = np.cross(np.cross(e, anchor_axis), e)\n",
    "anchor_axis = anchor_axis/np.linalg.norm(anchor_axis)\n",
    "\n",
    "anchor_theta = e+(radius*anchor_axis)\n",
    "\n",
    "ax.scatter(anchor_theta[0],anchor_theta[1],anchor_theta[2], color=\"tab:red\", depthshade=False)\n",
    "text_handle = Annotation3D(r\"$\\theta$\", anchor_theta, text_offset=[0,0,0.1],\n",
    "                               size=12, color=\"tab:red\")\n",
    "ax.add_artist(text_handle)\n",
    "\n",
    "# draw rotation axis\n",
    "draw_3d_vector(ax, e, text=r\"$\\vec{e}$\", text_offset=[0,0,0.1], color=\"tab:blue\")\n",
    "\n",
    "# prepare handles\n",
    "scat_z = ax.scatter([],[],[], color=\"yellow\", depthshade=False)\n",
    "arc = ax.plot([], [], [], color=\"tab:red\")\n",
    "rot_axis = draw_3d_vector(ax, text=r\"$\\vec{\\theta}$\", text_offset=[0,0,-0.4], color=\"tab:green\", size=12)\n",
    "\n",
    "# graph decoration\n",
    "draw_3d_frame(ax, size=10)\n",
    "ax.set_axis_off()\n",
    "ax_lim = 1.\n",
    "ax.set_xlim(-ax_lim, ax_lim); ax.set_ylim(-ax_lim, ax_lim); ax.set_zlim(-ax_lim, ax_lim)\n",
    "    \n",
    "def update(theta=0.):\n",
    "    P_prime = np.empty_like(P)\n",
    "        \n",
    "    for i,v in enumerate(P.T):\n",
    "        P_prime[:,i] = axis_ang.rotate_point(v, theta)\n",
    "    scat_z._offsets3d = P_prime\n",
    "    \n",
    "    rot_axis[0].set_positions(theta*e)\n",
    "    rot_axis[1].set_position(theta*e)\n",
    "    \n",
    "    A = interpolate_rot(anchor_theta, 0., theta, 0.1, axis_ang.to_mat)\n",
    "    arc[0].set_xdata(A[0,:])\n",
    "    arc[0].set_ydata(A[1,:])\n",
    "    arc[0].set_3d_properties(zs=A[2,:])        \n",
    "            \n",
    "    fig.canvas.draw() # needed!\n",
    "\n",
    "widgets.interact(update, theta = (-2.*np.pi, 2.*np.pi, 0.1), continuous_update=False);"
   ]
  },
  {
   "cell_type": "markdown",
   "metadata": {},
   "source": [
    "# Operations\n",
    "\n",
    "## Inverse rotation\n",
    "\n",
    "With the notation using a set $\\{\\mat{e}, \\theta \\}$, you can simply flip the sign of the axis or the angle.\n",
    "So, if we state that\n",
    "\n",
    "\\begin{aligned}\n",
    "\\R{} = \\mathrm{rot}(\\mat{e}, \\theta )\n",
    "\\textcomma\n",
    "\\end{aligned}\n",
    "\n",
    "then, the inverse rotation is\n",
    "\\begin{aligned}\n",
    "\\R{}^{-1} \n",
    "&= \\mathrm{rot}(-\\mat{e}, \\theta )\n",
    "\\\\\n",
    "&= \\mathrm{rot}(\\mat{e}, -\\theta )\n",
    "\\textdot\n",
    "\\end{aligned}\n",
    "\n",
    "\n",
    "With the notation directly using $\\matsym{\\theta} \\in \\real^{3}$, the inverse rotation is directly\n",
    "\n",
    "\\begin{aligned}\n",
    "\\R{}^{-1} \n",
    "&= \\mathrm{rot}(-\\matsym{\\theta} )\n",
    "\\textdot\n",
    "\\end{aligned}\n",
    "\n",
    "## Rotate a point\n",
    "If you have access to the coordinates of an axis of rotation $\\mat{e}$ and an angle of rotation $\\theta$, you can directly rotate a point $\\point{p}$ using\n",
    "\n",
    "\\begin{aligned}\n",
    "\\point{p}' &= \\mathrm{rot}(\\point{p}, \\matsym{\\theta})\n",
    "\\\\\n",
    "&= \\mathrm{rot}(\\point{p}, \\mat{e}, \\theta)\n",
    "\\\\\n",
    "&= (\\cos \\theta) \\point{p} + (\\sin \\theta) (\\mat{e} \\times \\point{p})  +\n",
    "                (1 - \\cos \\theta ) \\mat{e}^{} \\mat{e}^T  \\point{p}\n",
    "\\textdot\n",
    "\\end{aligned}\n",
    "\n",
    "The equation is known as _Rodrigues' rotation formula_.\n",
    "It is not straightforward to understand, but you can do a sanity check by computing what happens if you set $\\theta = 0$.\n",
    "Go ahead, you can do it in your head...\n",
    "\n",
    "The derivation of this equation fits on a single sheet of paper, but requires a step-by-step explanation beyond my animation skills in Python.\n",
    "A video will be better suited for this:"
   ]
  },
  {
   "cell_type": "code",
   "execution_count": 3,
   "metadata": {},
   "outputs": [
    {
     "data": {
      "image/jpeg": "[encoded data removed]",
      "text/html": [
       "\n",
       "        <iframe\n",
       "            width=\"720\"\n",
       "            height=\"480\"\n",
       "            src=\"https://www.youtube.com/embed/RtjM1xzpB58\"\n",
       "            frameborder=\"0\"\n",
       "            allowfullscreen\n",
       "        ></iframe>\n",
       "        "
      ],
      "text/plain": [
       "<IPython.lib.display.YouTubeVideo at 0x7fd7390945e0>"
      ]
     },
     "execution_count": 3,
     "metadata": {},
     "output_type": "execute_result"
    }
   ],
   "source": [
    "from IPython.display import YouTubeVideo\n",
    "YouTubeVideo('RtjM1xzpB58', width=720, height=480)"
   ]
  },
  {
   "cell_type": "markdown",
   "metadata": {},
   "source": [
    "# Conversion to rotation matrix\n",
    "\n",
    "We can define the rotation matrix using the equation to rotate a point, such that\n",
    "\n",
    "\\begin{aligned}\n",
    "\\R{} \\point{p} &= \\point{p}'\n",
    "\\\\\n",
    "&= (\\cos \\theta) \\point{p} + (\\sin \\theta) (\\mat{e} \\times \\point{p})  +\n",
    "                (1 - \\cos \\theta ) \\mat{e}^{} \\mat{e}^T  \\point{p}\n",
    "\\\\\n",
    "&= (\\cos \\theta) \\mat{I} \\point{p} + (\\sin \\theta) {[\\mat{e}]}_{\\times} \\point{p}  +\n",
    "                (1 - \\cos \\theta ) \\mat{e}^{} \\mat{e}^T  \\point{p}\n",
    "\\\\\n",
    "&=  \\underbrace{ \\left[(\\cos \\theta) \\mat{I} + (\\sin \\theta) {[\\mat{e}]}_{\\times} +\n",
    "                (1 - \\cos \\theta ) \\mat{e}^{} \\mat{e}^T \\right] }_{\\R{}}  \\point{p}\n",
    "\\textdot\n",
    "\\end{aligned}\n",
    "\n",
    "Then, we can simply state that\n",
    "\n",
    "\\begin{aligned}\n",
    "\\R{} = (\\cos \\theta) \\mat{I} + (\\sin \\theta) {[\\mat{e}]}_{\\times} + (1 - \\cos \\theta) \\mat{e}^{} \\mat{e}^T\n",
    "\\textcomma\n",
    "\\end{aligned}\n",
    "\n",
    "where ${[\\mat{e}]}_{\\times}$ is a skew-symmetric matrix and $\\mat{e}^{} \\mat{e}^T$ is a symmetric matrix.\n",
    "At this point, you should know what they look like, but just in case, here they are\n",
    "\n",
    "\\begin{aligned}\n",
    "{[\\mat{e}]}_{\\times} = \n",
    "\\bmat{\n",
    "0 & -e_\\azi & e_\\ayi \\\\ \n",
    "e_\\azi & 0 & -e_\\axi \\\\ \n",
    "-e_\\ayi & e_\\axi & 0 }\n",
    ", \\quad\n",
    "\\mat{e}^{} \\mat{e}^T =\n",
    "\\bmat{\n",
    "e^2_\\axi & e_\\axi e_\\ayi & e_\\axi e_\\azi \\\\ \n",
    "e_\\axi e_\\ayi & e^2_\\ayi & e_\\ayi e_\\azi\\\\ \n",
    "e_\\axi e_\\azi & e_\\ayi e_\\azi & e^2_\\azi }\n",
    "\\textdot\n",
    "\\end{aligned}"
   ]
  },
  {
   "cell_type": "markdown",
   "metadata": {},
   "source": [
    "# Conversion ambiguity and singularity\n",
    "\n",
    "Although it is true that all 3D rotations can be expressed using the axis-angle representation, the mapping is not one-to-one.\n",
    "Two combinations of an axis and an angle can lead to the same rotation.\n",
    "To experience this ambiguity yourself, use the following figure to:\n",
    "1. rotate the scene to understand it\n",
    "1. use the slider `theta_1` to rotate the yellow dot to the red `x`.\n",
    "1. use the slider `theta_2` to rotate the yellow dot to the red `x`.\n",
    "\n",
    "What happens to the angle?"
   ]
  },
  {
   "cell_type": "code",
   "execution_count": 2,
   "metadata": {},
   "outputs": [
    {
     "data": {
      "application/vnd.jupyter.widget-view+json": {
       "model_id": "2f8dfa2bc7414af0a2651e281125561e",
       "version_major": 2,
       "version_minor": 0
      },
      "text/plain": [
       "Canvas(toolbar=Toolbar(toolitems=[('Home', 'Reset original view', 'home', 'home'), ('Back', 'Back to previous …"
      ]
     },
     "metadata": {},
     "output_type": "display_data"
    },
    {
     "data": {
      "application/vnd.jupyter.widget-view+json": {
       "model_id": "893413308184405abc5c08c6d12a0e3f",
       "version_major": 2,
       "version_minor": 0
      },
      "text/plain": [
       "interactive(children=(FloatSlider(value=0.0, description='theta_1', max=3.141592653589793, min=-3.141592653589…"
      ]
     },
     "metadata": {},
     "output_type": "display_data"
    }
   ],
   "source": [
    "%matplotlib widget\n",
    "if 'fig' in globals():\n",
    "    plt.close(fig)\n",
    "    \n",
    "fig = plt.figure(figsize=(8,4))\n",
    "\n",
    "p = np.array([-0.3, -0.6, 0.5])\n",
    "target = np.array([0.3,  0.15, 0.77])\n",
    "\n",
    "# rotation axis \n",
    "e1 = np.array([-0.192, -0.192,  0.9625])\n",
    "axis_ang1 = Axis_angle(e1)\n",
    "e2 = -e1\n",
    "axis_ang2 = Axis_angle(e2)\n",
    "\n",
    "#------------------------\n",
    "# plot version 1\n",
    "ax1 = fig.add_subplot(121, projection=\"3d\")\n",
    "ax = ax1; ax.set_title(r\"Version 1\")\n",
    "\n",
    "# draw rotation axis\n",
    "draw_3d_vector(ax, e1, text=r\"$\\vec{e}_1$\", text_offset=[-0.1,-0.1,0.1], color=\"tab:blue\", size=15)\n",
    "ax.scatter(target[0], target[1], target[2], color=\"tab:red\", marker='x', s=40)\n",
    "\n",
    "# prepare handles\n",
    "scat_z1 = ax.scatter([],[],[], color=\"yellow\", depthshade=False)\n",
    "\n",
    "#------------------------\n",
    "# plot version 2\n",
    "ax2 = fig.add_subplot(122, projection=\"3d\")\n",
    "ax = ax2; ax.set_title(r\"Version 2\")\n",
    "\n",
    "# draw rotation axis\n",
    "draw_3d_vector(ax, e2, text=r\"$\\vec{e}_2$\", text_offset=[0,0,-0.1], color=\"tab:blue\", size=15)\n",
    "ax.scatter(target[0], target[1], target[2], color=\"tab:red\", marker='x', s=40)\n",
    "\n",
    "# prepare handles\n",
    "scat_z2 = ax.scatter([],[],[], color=\"yellow\", depthshade=False)\n",
    "\n",
    "# graph decoration\n",
    "for ax in [ax1, ax2]:\n",
    "    draw_3d_frame(ax, size=10)\n",
    "    ax.set_axis_off()\n",
    "    ax_lim = 1.\n",
    "    ax.set_xlim(-ax_lim, ax_lim); ax.set_ylim(-ax_lim, ax_lim); ax.set_zlim(-ax_lim, ax_lim)\n",
    "    \n",
    "def update(theta_1=0., theta_2=0.):\n",
    "    \n",
    "    scat_z1._offsets3d = axis_ang1.rotate_point(p, theta_1)\n",
    "    scat_z2._offsets3d = axis_ang2.rotate_point(p, theta_2)\n",
    "          \n",
    "    fig.canvas.draw() # needed!\n",
    "\n",
    "widgets.interact(update, theta_1 = (-np.pi, np.pi, 0.01), theta_2 = (-np.pi, np.pi, 0.01), continuous_update=False);"
   ]
  },
  {
   "cell_type": "markdown",
   "metadata": {},
   "source": [
    "Singularities can happen at $\\theta = 0$ and $\\theta = \\pi$.\n",
    "The first singularity is only apparent when using the notation $\\{\\mat{e}, \\theta \\}$ because any axis will satisfy a rotation with $\\theta = 0$.\n",
    "Therefore, when a rotation matrix is identity, we have\n",
    "\n",
    "\\begin{aligned}\n",
    "\\R{} = \\mat{I} = \\mathrm{rot}(\\mathrm{undefined}, \\theta )\n",
    "\\textdot\n",
    "\\end{aligned}\n",
    "\n",
    "This situation can be avoided using $\\matsym{\\theta} \\in \\real^{3}$ instead, leading to well-behaved parameters\n",
    "\n",
    "\\begin{aligned}\n",
    "\\R{} = \\mat{I} = \\mathrm{rot}(\\;\\bmat{0\\\\0\\\\0} \\;)\n",
    "\\textdot\n",
    "\\end{aligned}\n",
    "\n",
    "Unfortunately, the second singularity at $\\theta = \\pi$ cannot be avoided.\n",
    "Go back to the last figure and push both sliders to $\\pi$.\n",
    "You will finish with two different rotation vectors with the same value of $\\theta$ and representing the exact same rotation.\n",
    "This singularity causes problem when we try to convert a rotation matrix $\\R{}$ to axis-angle parameters.\n",
    "Given that\n",
    "\n",
    "\\begin{aligned}\n",
    "\\R{} = \\bmat{\n",
    "r_{11} & r_{12} & r_{13} \\\\\n",
    "r_{21} & r_{22} & r_{23} \\\\\n",
    "r_{31} & r_{32} & r_{33} \\\\\n",
    "}\n",
    "\\textcomma\n",
    "\\end{aligned}\n",
    "\n",
    "The absolute value of the angle $\\theta$ can be found with\n",
    "\n",
    "\\begin{aligned}\n",
    "| \\theta | = \\arccos \\left( \\frac{\\mathrm{tr}({\\R{}}) - 1}{2} \\right)\n",
    "\\textcomma\n",
    "\\end{aligned}\n",
    "\n",
    "where the function $\\mathrm{tr}(\\cdot)$ is the trace of a matrix and can be computed by summing the diagonal elements of a matrix such that \n",
    "\n",
    "\\begin{aligned}\n",
    "\\mathrm{tr}({\\R{}}) = r_{11} + r_{22} + r_{33}\n",
    "\\textdot\n",
    "\\end{aligned}\n",
    "\n",
    "So far, so good.\n",
    "The problem arises when we compute the axis $\\mat{e}$.\n",
    "The axis can be recovered using\n",
    "\n",
    "\\begin{aligned}\n",
    "\\mat{a} &= \\bmat{\n",
    "(r_{32}-r_{23}) \\\\\n",
    "(r_{13}-r_{31}) \\\\\n",
    "(r_{21}-r_{12})\n",
    "}\n",
    "\\\\\n",
    "\\\\\n",
    "\\mat{e} &= \\frac{\\mat{a}}{2 \\sin \\theta }\n",
    "\\textdot\n",
    "\\end{aligned}\n",
    "\n",
    "With either $\\sin(0)=0$ or $\\sin(\\pi)=0$, the division will lead to an undefined rotation axis.\n"
   ]
  },
  {
   "cell_type": "markdown",
   "metadata": {},
   "source": [
    "# Pros and cons\n",
    "\n",
    "- Easy to understand.\n",
    "\n",
    "- Easy to anticipate what rotation will be produced by using your right hand with the thumb in the direction of the axis $\\mat{e}$. \n",
    "\n",
    "- Smooth interpolation when the axis of rotation is constant and the angle varies.\n",
    "\n",
    "- Singularity when $\\theta = \\pi$.\n",
    "\n",
    "- A single point can be rotated without any conversion to a rotation matrix. \n",
    "\n",
    "- Easy to inverse a rotation.\n",
    "\n",
    "- Not efficient for rotating a complete point cloud. \n",
    "\n"
   ]
  },
  {
   "cell_type": "markdown",
   "metadata": {},
   "source": [
    "# Conclusion\n",
    "\n",
    "You should do the following activities to enhance your understanding of the concepts viewed in this lesson:\n",
    "- play with the Python scripts provided;\n",
    "- do the [exercises](../../exercises/transformations_3d/3e-exercises_axis_angle.ipynb) related to this lesson, they are necessary to connect concepts;\n",
    "- modify the markdown by adding your own notes using `> my notes`; and\n",
    "- complete the tables [Symbol definitions](#Symbol-definitions) and [Glossary](#Glossary) and add your own definitions.\n",
    "\n",
    "Next lesson:\n",
    "- [Quaternion](4-lesson_rotation_quaternion.ipynb)"
   ]
  },
  {
   "cell_type": "markdown",
   "metadata": {},
   "source": [
    "## Symbol definitions\n",
    "\n",
    "| Symbol                      | Definition            |\n",
    "|--------------------         |-------------          |\n",
    "| $|a|$                       | Absolute value of $a$ |\n",
    "| $\\mat{a} \\times \\mat{b}$    | Cross product between $\\mat{a}$ and $\\mat{b}$ |\n",
    "| $[\\mat{a}]_\\times$          | Skew symmetric matrix from $\\mat{a}$ |\n",
    "| $\\mat{e}$                   | Axis of rotation      |\n",
    "| $\\theta$                    | Angle of rotation     |\n",
    "| $\\matsym{\\theta}$           | Combination of axis and angle     |\n",
    "| $\\mathrm{tr}(\\mat{A})$      | Trace of the matrix $\\mat{A}$ (i.e., sum of diagonal elements)  |\n",
    "| ...                         |                       |"
   ]
  },
  {
   "cell_type": "markdown",
   "metadata": {},
   "source": [
    "## Glossary\n",
    "\n",
    "| English               | Français                | Definition |\n",
    "|-----------            |------------             |------------|\n",
    "| axis-angle representation | représentation axe-angle\n",
    "| ...                   |                         |            |"
   ]
  }
 ],
 "metadata": {
  "kernelspec": {
   "display_name": "Python 3",
   "language": "python",
   "name": "python3"
  },
  "language_info": {
   "codemirror_mode": {
    "name": "ipython",
    "version": 3
   },
   "file_extension": ".py",
   "mimetype": "text/x-python",
   "name": "python",
   "nbconvert_exporter": "python",
   "pygments_lexer": "ipython3",
   "version": "3.8.3"
  }
 },
 "nbformat": 4,
 "nbformat_minor": 4
}

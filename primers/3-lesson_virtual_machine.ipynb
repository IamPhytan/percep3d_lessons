{
 "cells": [
  {
   "cell_type": "markdown",
   "metadata": {},
   "source": [
    "<p style=\"text-align: center;font-size: 40pt\">Virtual Machine with Ubuntu and ROS</p>"
   ]
  },
  {
   "cell_type": "markdown",
   "metadata": {},
   "source": [
    "# Overview \n",
    "\n",
    "The practical part of this course involves working with the Robot Operating System (ROS) running on top of the Linux distribution Ubuntu.\n",
    "The exercises expect you to have your own instance of the system to experiment with.\n",
    "There are several possibilities on how to proceed:\n",
    "\n",
    "\n",
    "1. __You have your Windows or Mac installation and no Linux will ever touch your hard drive__\n",
    "\n",
    "   This is actually the most probable scenario.\n",
    "   We have prepared an image of a virtual machine with Ubuntu and ROS already installed and set.\n",
    "   There is a price to pay in performance since the virtualized system cannot run as fast as a real one, yet it will allow you to do all the exercises.\n",
    "   Follow the [instructions from here](#Virtual-machine-download-and-installation).\n",
    "   \n",
    "1. __You already have a PC with a Ubuntu 18.04 installed on it__\n",
    "   \n",
    "   Great, we will help you install the ROS and some software necessary for the course and you are good to go.\n",
    "   You can start by installing a [ROS Melodic](http://wiki.ros.org/melodic/Installation/Ubuntu), you want the _Desktop Install_ configuration which contains all we need for the course.\n",
    "   We will support this installation in person.\n",
    "   Just ask an instructor on Slack for help.\n",
    "   \n",
    "1. __You have a spare PC or you are willing to setup a dual-boot configuration on your PC__\n",
    "\n",
    "   Then, consider installing Ubuntu 18.04 on it. When you are done, GOTO (2.)"
   ]
  },
  {
   "cell_type": "markdown",
   "metadata": {},
   "source": [
    "# Virtual machine download and installation\n",
    "\n",
    "This section describes how to get the virtual machine up and running.\n",
    "We will use Vmware for the virtualisation.\n",
    "For those wondering why we went for a paid product instead of an open solution like _Oracle VirtualBox_, the reason is that VirtualBox only supports an older version of OpenGL and, as the name of the lecture suggests, we will need good 3D support for the tools we use.\n",
    "\n",
    "__First, download the virtual machine image we prepared for you:__\n",
    "   \n",
    "   - Use this [link TODO!!!!](http://eelslap.com/) to download a zip file containing the whole virtual machine.\n",
    "   The image is around 6 GB and should take 30 min to download on a 30 Mb/s connection.\n",
    "   When done, unzip it at a location of your choice.\n",
    "\n",
    "__Then, depending of your host OS, you will need to:__\n",
    "\n",
    "- [install VMware Workstation Player on a Windows host](#VMware-Workstation-Player-on-a-Windows), or\n",
    "- [install VMware Fusion on a OSX host](#VMware-Fusion-for-OSX)."
   ]
  },
  {
   "cell_type": "markdown",
   "metadata": {},
   "source": [
    "## VMware Workstation Player for Windows"
   ]
  },
  {
   "cell_type": "markdown",
   "metadata": {},
   "source": [
    "### Prelude\n",
    "Something good to know it that modern x86 virtualization software depends on hardware technology making the virtual systems reasonably fast. \n",
    "At Intel, they call it [VT-x](https://en.wikipedia.org/wiki/X86_virtualization#Intel_virtualization_(VT-x)), AMD calls it [AMD-v](https://en.wikipedia.org/wiki/X86_virtualization#AMD_virtualization_(AMD-V)).\n",
    "You will have to turn it on in the BIOS, otherwise the virtual machine software will complain, or run slow, or not run at all.\n",
    "These screenshots demonstrate how it is done on a Lenovo laptop with an Intel CPU:\n",
    "\n",
    "<p align=\"middle\">\n",
    "<img src=\"virtual_machine/figures/bios1.jpg\" width=\"49%\" />\n",
    "<img src=\"virtual_machine/figures/bios2.jpg\" width=\"49%\" />\n",
    "</p>\n",
    "\n",
    "Look for something similar in the BIOS of your machine."
   ]
  },
  {
   "cell_type": "markdown",
   "metadata": {},
   "source": [
    "### VMware Workstation Player\n",
    "\n",
    "Here are the steps for installation: \n",
    "\n",
    "1. __Download and install the _VMware Workstation Player_ intended for your system__\n",
    "\n",
    "   Laval University offers free licenses for VWware software.\n",
    "   Follow the instructions from [_Service LiberT_ over here](https://libert.fsg.ulaval.ca/logiciels-a-telecharger/vm-ware-academic-program/).\n",
    "   When facing the product list, select VMware Workstation 15.X Pro, which should look like this:\n",
    "   \n",
    "   <img src=\"virtual_machine/figures/download_workstation.jpg\" width=\"75%\"/>\n",
    "   \n",
    "   \n",
    "\n",
    "   \n",
    "3. __Open and run the virtual machine__\n",
    "\n",
    "    You are almost there, choose _Open a Virtual Machine_:\n",
    "    \n",
    "    <img src=\"virtual_machine/figures/vmware1.jpg\" width=\"50%\"/>\n",
    "\n",
    "    Locate the files you unzipped and choose this one:\n",
    "    \n",
    "    <img src=\"virtual_machine/figures/vmware2.jpg\" width=\"50%\"/>\n",
    "    \n",
    "    And start the machine:\n",
    "    \n",
    "    <img src=\"virtual_machine/figures/vmware3.jpg\" width=\"50%\"/>"
   ]
  },
  {
   "cell_type": "markdown",
   "metadata": {},
   "source": [
    "## VMware Fusion for OSX\n",
    "\n",
    "Here are the steps for installation: \n",
    "\n",
    "1. __Download and install the _VMware Fusion_ intended for your system__\n",
    "\n",
    "    Laval University offers free licenses for VWware software. Follow the instructions from Service LiberT over here. \n",
    "    When facing the product list, select VMware Workstation 15.X Pro, which should look like this:\n",
    "   \n",
    "   <img src=\"virtual_machine/figures/download_fusion.jpg\" width=\"75%\"/>\n",
    "   \n",
    "1. __TODO__\n",
    "1. __TODO__"
   ]
  },
  {
   "cell_type": "markdown",
   "metadata": {},
   "source": [
    "# Using the virtual machine\n",
    "\n",
    "There is already an account for you with administrator rights with the username `Student Percept3D`. \n",
    "The password is `lidars`.\n",
    "Familiarize yourself with the virtual machine controls, for example how to switch to full screen.\n",
    "Also, we have set the operation memory to be 4 GB for the virtual machine.\n",
    "If you happen to have plenty on your host machine, you can increase the amount in the virtual machine settings.\n",
    "    \n",
    "<img src=\"virtual_machine/figures/vmware4.jpg\" width=\"50%\"/>\n",
    "    \n",
    "5.  __Run the graphical benchmark to see if everything works alright__\n",
    "\n",
    "    After logging in, open a terminal by pressing `CTRL+ALT+T`, type\n",
    "    \n",
    "    ```bash\n",
    "    $ sl\n",
    "    ``` \n",
    "    \n",
    "    and press enter.\n",
    "    Nice, now test the actual 3D capability by using\n",
    "    \n",
    "    ```bash\n",
    "    $ glxgears\n",
    "    ```"
   ]
  },
  {
   "cell_type": "markdown",
   "metadata": {},
   "source": [
    "# Remarks on the virtual machine\n",
    "\n",
    "The system is a freshly installed Ubuntu 18.04 together with the ROS Melodic, which will be used for some exercises, and few other useful programs (e.g., `vim`, `mc`, `htop`, `sl`).\n",
    "In the home folder `/home/student`, you will find a folder containing the _Paraview_ scientific data visualizer, useful for point cloud visualization.\n",
    "We have already prepared a link to the executable _Paraview_ binary, it is sufficient to type `paraview` in the terminal to run it.\n",
    "\n",
    "Moreover, there is an empty folder `percep3d_data` intended for datasets that we will provide you for the exercises.\n",
    "The folder `percep3d_workspace` contains ROS software packages that will come handy during the ROS lessons and the mapping lessons.\n",
    "\n",
    "You will be guided through those tools and folders step by step during the exercises."
   ]
  }
 ],
 "metadata": {
  "kernelspec": {
   "display_name": "Python 3",
   "language": "python",
   "name": "python3"
  },
  "language_info": {
   "codemirror_mode": {
    "name": "ipython",
    "version": 3
   },
   "file_extension": ".py",
   "mimetype": "text/x-python",
   "name": "python",
   "nbconvert_exporter": "python",
   "pygments_lexer": "ipython3",
   "version": "3.7.6"
  }
 },
 "nbformat": 4,
 "nbformat_minor": 4
}

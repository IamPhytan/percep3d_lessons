{
 "cells": [
  {
   "cell_type": "markdown",
   "metadata": {
    "slideshow": {
     "slide_type": "slide"
    }
   },
   "source": [
    "<p style=\"text-align: center;font-size: 40pt\">Module</p>\n",
    "<p style=\"text-align: center;font-size: 20pt\">Robot Operating System</p>"
   ]
  },
  {
   "cell_type": "code",
   "execution_count": 1,
   "metadata": {},
   "outputs": [
    {
     "data": {
      "image/jpeg": "[encoded data removed]",
      "text/html": [
       "\n",
       "        <iframe\n",
       "            width=\"720\"\n",
       "            height=\"480\"\n",
       "            src=\"https://www.youtube.com/embed/xb2_VB2UYnI\"\n",
       "            frameborder=\"0\"\n",
       "            allowfullscreen\n",
       "        ></iframe>\n",
       "        "
      ],
      "text/plain": [
       "<IPython.lib.display.YouTubeVideo at 0x7fd90c678390>"
      ]
     },
     "execution_count": 1,
     "metadata": {},
     "output_type": "execute_result"
    }
   ],
   "source": [
    "from IPython.display import YouTubeVideo\n",
    "YouTubeVideo('xb2_VB2UYnI', width=720, height=480)"
   ]
  },
  {
   "cell_type": "markdown",
   "metadata": {},
   "source": [
    "# Overview\n",
    "\n",
    "Requirements:\n",
    "\n",
    "- [Primer on virtual machine](../primers/3-lesson_virtual_machine.ipynb)\n",
    "\n",
    "Objectives:\n",
    "\n",
    "- Get use to command lines and Ubuntu\n",
    "- Learn how to use a middleware to handle complex robotic systems\n",
    "\n",
    "Time planning:\n",
    "   - Expect a total of 16.5 hours\n",
    "   - 18 % for installing the virtual machine\n",
    "   - 30 % for three reading activities \n",
    "   - 18 % for eleven exercises\n",
    "   - 24 % for studying\n",
    "   - 9 % for an exam"
   ]
  },
  {
   "cell_type": "markdown",
   "metadata": {},
   "source": [
    "# Activities\n",
    "\n",
    "We start our 3D journey with this module.\n",
    "The activities focuses on having a practical experience on managing pipelines of data streamed from sensors.\n",
    "No game this time, it's getting serious, just watch our for ketchup...\n",
    "\n",
    "1. [Overview of ROS](1-lesson-ros-overview.ipynb) + [exercises](../../exercises/ros/1e-exercises_basics.ipynb)\n",
    "1. [ROS visualizer (rviz)](2-lesson-ros-rviz.ipynb) + [exercises](../../exercises/ros/2e-exercises_rviz.ipynb)\n",
    "1. [Data recording and playback (rosbag)](3-lesson-ros-rosbag.ipynb) + [exercises](../../exercises/ros/3e-exercises_rosbag.ipynb)\n",
    "1. [Transformation frames (tf)](4-lesson-ros-tf.ipynb) + [exercises](../../exercises/ros/4e-exercises_tf.ipynb)\n",
    "1. [Processing data (roslaunch)](5-lesson-ros-roslaunch.ipynb) + [exercises](../../exercises/ros/5e-exercises_roslaunch.ipynb)\n",
    "\n",
    "and on exam:\n",
    "- [Don't mess with tomatoes](6-exam_ros.ipynb)\n"
   ]
  },
  {
   "cell_type": "markdown",
   "metadata": {},
   "source": [
    "&#8635; [Go back to the list of modules](../modules_overview.ipynb#List-of-modules)"
   ]
  },
  {
   "cell_type": "markdown",
   "metadata": {},
   "source": [
    "<p style=\"text-align:center\">\n",
    "<img src=\"../../common/images/module_2.jpeg\" width=100%/>\n",
    "</p>"
   ]
  }
 ],
 "metadata": {
  "kernelspec": {
   "display_name": "Python 3",
   "language": "python",
   "name": "python3"
  },
  "language_info": {
   "codemirror_mode": {
    "name": "ipython",
    "version": 3
   },
   "file_extension": ".py",
   "mimetype": "text/x-python",
   "name": "python",
   "nbconvert_exporter": "python",
   "pygments_lexer": "ipython3",
   "version": "3.7.6"
  }
 },
 "nbformat": 4,
 "nbformat_minor": 4
}

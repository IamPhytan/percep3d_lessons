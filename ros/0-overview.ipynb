{
 "cells": [
  {
   "cell_type": "markdown",
   "metadata": {
    "slideshow": {
     "slide_type": "slide"
    }
   },
   "source": [
    "<p style=\"text-align: center;font-size: 40pt\">Module<\\p>\n",
    "<p style=\"text-align: center;font-size: 20pt\">Robot Operating System<\\p>"
   ]
  },
  {
   "cell_type": "markdown",
   "metadata": {},
   "source": [
    "\n",
    "\n",
    "This module has 5 lessons with exercises:\n",
    "1. [Overview of ROS](1-lesson-ros-overview.ipynb) + [exercises](../../exercises/ros/1e-exercises_basics.ipynb)\n",
    "1. [ROS visualizer (rviz)](2-lesson-ros-rviz.ipynb) + [exercises](../../exercises/ros/2e-exercises_rviz.ipynb)\n",
    "1. [Data recording and playback (rosbag)](3-lesson-ros-rosbag.ipynb) + [exercises](../../exercises/ros/3e-exercises_rosbag.ipynb)\n",
    "1. [Transformation frames (tf)](4-lesson-ros-tf.ipynb) + [exercises](../../exercises/ros/4e-exercises_tf.ipynb)\n",
    "1. [Processing data (roslaunch)](5-lesson-ros-roslaunch.ipynb) + [exercises](../../exercises/ros/5e-exercises_roslaunch.ipynb)\n"
   ]
  },
  {
   "cell_type": "markdown",
   "metadata": {},
   "source": [
    "&#8635; [Go back to the list of modules](../modules_overview.ipynb#List-of-modules)"
   ]
  }
 ],
 "metadata": {
  "kernelspec": {
   "display_name": "Python 3",
   "language": "python",
   "name": "python3"
  },
  "language_info": {
   "codemirror_mode": {
    "name": "ipython",
    "version": 3
   },
   "file_extension": ".py",
   "mimetype": "text/x-python",
   "name": "python",
   "nbconvert_exporter": "python",
   "pygments_lexer": "ipython3",
   "version": "3.6.9"
  }
 },
 "nbformat": 4,
 "nbformat_minor": 4
}

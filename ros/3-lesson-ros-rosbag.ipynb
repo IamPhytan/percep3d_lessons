{
 "cells": [
  {
   "cell_type": "markdown",
   "metadata": {
    "slideshow": {
     "slide_type": "slide"
    }
   },
   "source": [
    "<p style=\"text-align: center;font-size: 40pt\">ROSBAG<\\p>\n",
    "<p style=\"text-align: center;font-size: 20pt\">Set of tools for recording from and playing back to ROS topics<\\p>\n",
    "<img src=\"images/rqt_bag.jpg\" width=\"75%\">"
   ]
  },
  {
   "cell_type": "markdown",
   "metadata": {},
   "source": [
    "Internally, ROS needs to be able to convert messages into a stream of data (to _serialize_ them) to transmit them through topics between running ROS nodes.\n",
    "The idea of the _rosbag_ package is to save this data stream on a hard drive as a file.\n",
    "Given that time of reception of each message is saved as well, we end up having a tool to replay the state of the ROS system anytime in the future (without actually needing the robot).\n",
    "\n",
    "In robotics, we often perform tests and experiments with real robots but sometimes our code does not work as expected in the field.\n",
    "The ability to save all sensor data in a compact way and replay it later helps us to effectively manage our work with robots. During a session with real hardware, we can focus on the experiment and later, we can take all time we need to design and debug our software.\n",
    "Of course, software with robot-controlling functions cannot be fully tested with recorded sensor data, there are real experiments or simulators for this purpose.\n",
    "Yet having a stable perception part of the software already when focusing on the control software is a strong advantage in the field."
   ]
  },
  {
   "cell_type": "markdown",
   "metadata": {},
   "source": [
    "# Prerequisites for this lesson on rosbags\n",
    "\n",
    "Apparently, we need a rosbag for this lesson.\n",
    "There is one which was used throughout the [lesson on Rviz](2-lesson-ros-rviz.ipynb): `/home/student/percep3d_data/husky_short_demo.bag`.\n",
    "If you already have it at this location in your virtual machine, you can proceed.\n",
    "Otherwise, download it zip-compressed from this [OneDrive link](https://ulavaldti-my.sharepoint.com/:u:/g/personal/vlkub_ulaval_ca/EbzsXAnRhI5HvWV9VKthZvgBszz7xbu7CJNPBgVRX2w-eg?e=YUZNEy) and extract to the 'percep3d_data' directory in your home folder.\n"
   ]
  },
  {
   "cell_type": "markdown",
   "metadata": {},
   "source": [
    "# Rosbag tools in ROS\n",
    "\n",
    "The package which provides rosbag functionality in ROS is documented at [wiki.ros.org/rosbag](http://wiki.ros.org/rosbag).\n",
    "More in detail, [wiki.ros.org/rosbag/Commandline](http://wiki.ros.org/rosbag/Commandline) lists all the possible commands you can call from a terminal.\n",
    "For us, the three most important will be: `rosbag record`, `rosbag info` and `rosbag play`.\n",
    "\n",
    "## Rosbag record\n",
    "\n",
    "Using this command is straightforward, by executing `rosbag record topic_A topic_B topic_C` you will start recording a new rosbag with the three topics _topic_A_, _topic_B_ and _topic_C_.\n",
    "The new file is created in the current directory of the terminal the command was launched from.\n",
    "It is also possible to record everything by running `rosbag record -a`, yet keep in mind that if there are point-cloud topics or camera image topics, the rosbag files (I will use term _bagfile_ further on) grow very fast.\n",
    "For example, the bagfile _husky_short_demo.bag_ is about one gigabyte large, spanning only one minute...\n",
    "\n",
    "## Rosbag info\n",
    "\n",
    "This command gives you information about the content of a given bagfile.\n",
    "Try running `rosbag info husky_short_demo.bag` from the directory you have extracted it into, or `rosbag info /home/student/percep3d_data/husky_short_demo.bag` from anywhere.\n",
    "You should see this output:\n",
    "\n",
    "```\n",
    "path:        husky_short_demo.bag\n",
    "version:     2.0\n",
    "duration:    59.0s\n",
    "start:       Feb 26 2020 14:50:06.05 (1582746606.05)\n",
    "end:         Feb 26 2020 14:51:05.04 (1582746665.04)\n",
    "size:        1.1 GB\n",
    "messages:    85391\n",
    "compression: none [634/634 chunks]\n",
    "types:       diagnostic_msgs/DiagnosticArray  [60810da900de1dd6ddd437c3503511da]\n",
    "             diagnostic_msgs/DiagnosticStatus [d0ce08bc6e5ba34c7754f563a9cabaf1]\n",
    "             geometry_msgs/Twist              [9f195f881246fdfa2798d1d3eebca84a]\n",
    "             husky_msgs/HuskyStatus           [fd724379c53d89ec4629be3b235dc10d]\n",
    "             nav_msgs/Odometry                [cd5e73d190d741a2f92e81eda573aca7]\n",
    "             rslidar_msgs/rslidarPacket       [1e4288e00b9222ea477b73350bf24f51]\n",
    "             sensor_msgs/CameraInfo           [c9a58c1b0b154e0e6da7578cb991d214]\n",
    "             sensor_msgs/CompressedImage      [8f7a12909da2c9d3332d540a0977563f]\n",
    "             sensor_msgs/JointState           [3066dcd76a6cfaef579bd0f34173e9fd]\n",
    "             sensor_msgs/Joy                  [5a9ea5f83505693b71e785041e67a8bb]\n",
    "             sensor_msgs/PointCloud2          [1158d486dd51d683ce2f1be655c3c181]\n",
    "             tf2_msgs/TFMessage               [94810edda583a504dfda3829e70d7eec]\n",
    "             visualization_msgs/MarkerArray   [d155b9ce5188fbaf89745847fd5882d7]\n",
    "topics:      /cam_1/depth/color/points_throttle     169 msgs    : sensor_msgs/PointCloud2         \n",
    "             /cam_2/depth/color/points_throttle     169 msgs    : sensor_msgs/PointCloud2         \n",
    "             /camera_0/camera_info                  295 msgs    : sensor_msgs/CameraInfo          \n",
    "             /camera_0/image_raw/compressed         295 msgs    : sensor_msgs/CompressedImage     \n",
    "             /camera_1/camera_info                  295 msgs    : sensor_msgs/CameraInfo          \n",
    "             /camera_1/image_raw/compressed         295 msgs    : sensor_msgs/CompressedImage     \n",
    "             /camera_2/camera_info                  295 msgs    : sensor_msgs/CameraInfo          \n",
    "             /camera_2/image_raw/compressed         295 msgs    : sensor_msgs/CompressedImage     \n",
    "             /camera_3/camera_info                  296 msgs    : sensor_msgs/CameraInfo          \n",
    "             /camera_3/image_raw/compressed         296 msgs    : sensor_msgs/CompressedImage     \n",
    "             /camera_4/camera_info                  296 msgs    : sensor_msgs/CameraInfo          \n",
    "             /camera_4/image_raw/compressed         296 msgs    : sensor_msgs/CompressedImage     \n",
    "             /camera_5/camera_info                  295 msgs    : sensor_msgs/CameraInfo          \n",
    "             /camera_5/image_raw/compressed         295 msgs    : sensor_msgs/CompressedImage     \n",
    "             /cmd_vel                               590 msgs    : geometry_msgs/Twist             \n",
    "             /diagnostics                         24215 msgs    : diagnostic_msgs/DiagnosticArray \n",
    "             /diagnostics_agg                        59 msgs    : diagnostic_msgs/DiagnosticArray \n",
    "             /diagnostics_toplevel_state             59 msgs    : diagnostic_msgs/DiagnosticStatus\n",
    "             /husky_velocity_controller/cmd_vel     590 msgs    : geometry_msgs/Twist             \n",
    "             /husky_velocity_controller/odom        590 msgs    : nav_msgs/Odometry               \n",
    "             /icp_odom                              293 msgs    : nav_msgs/Odometry               \n",
    "             /imu_odom                            23607 msgs    : nav_msgs/Odometry               \n",
    "             /joint_states                          590 msgs    : sensor_msgs/JointState          \n",
    "             /joy_teleop/joy                       1174 msgs    : sensor_msgs/Joy                 \n",
    "             /rslidar16_points                      295 msgs    : sensor_msgs/PointCloud2         \n",
    "             /rslidar_packets_difop                 590 msgs    : rslidar_msgs/rslidarPacket      \n",
    "             /status                                 59 msgs    : husky_msgs/HuskyStatus          \n",
    "             /tf                                  28738 msgs    : tf2_msgs/TFMessage              \n",
    "             /tf_static                               1 msg     : tf2_msgs/TFMessage              \n",
    "             /visualization_marker_array             59 msgs    : visualization_msgs/MarkerArray\n",
    "```\n",
    "\n",
    "which tells you the size and time span of the bagfile, the types of topics recorded in the bagfile and finally the list of the topic names recorded."
   ]
  },
  {
   "cell_type": "markdown",
   "metadata": {},
   "source": [
    "## Rosbag play\n",
    "\n",
    "This is the command you will be running all the time.\n",
    "Executing `rosbag play bagfile.bag` will run the bagfile.bag from the beginning to the end publishing messages on all topics it contains.\n",
    "There are some parameters such as playback speed, starting time, playback length, etc., that you can find about by running `rosbag play -h`.\n",
    "Moreover, you can pause the playback by pressing the space key.\n",
    "\n",
    "If you recall the [lesson on Rviz](2-lesson-ros-rviz.ipynb), we were executing an additional command before the _rosbag play_ which also had an additional parameter: `--clock`.\n",
    "Reason for this is that we recorded the bagfile in some point in history.\n",
    "All the time information stored in that bagfile is coming from a system clock of a robot that ran on February 26, 2020.\n",
    "As long as we only play a bagfile and observe data in Rviz, `rosbag play` should be sufficient.\n",
    "\n",
    "However, we might want to run some ROS nodes that consume data from the recorded topics and also depend on current time information.\n",
    "Let's imagine a ROS node that subscribes a topic with camera images and inserts a text information to those images with current time and data, same as the old analog cameras did (photo courtesy of [Applied Science](https://www.youtube.com/channel/UCivA7_KLKWo43tFcCkFvydw)):\n",
    "\n",
    "<img src=\"images/timestamp.png\" width=\"50%\" style=\"display:block; margin: 0 auto;\" />\n",
    "\n",
    "Further imagine that you recorded the images into the rosbag one day and you are applying the stamping node a few days later.\n",
    "Now, your images receive a wrong time stamp, the one for the time of stamping, not for the time of taking the photo.\n",
    "ROS offers a solution for this situation: The `rosbag play --clock` option causes the rosbag player to publish a new topic called _clock_ which informs all running nodes in the ROS system about correct _\"current time\"_, the time of the bagfile.\n",
    "There is one more requirement though.\n",
    "Before running any nodes or the rosbag player, a parameter in ROS needs to be set that tells all the nodes that there will be such _clock_ topic they should listen to. \n",
    "This parameter is set by calling `rosparam set use_sim_time true`.\n",
    "We prefer to use this _simulated_ time method since it helps us avoid unpredicted behavior of our software when re-playing bagfiles.\n",
    "To recap how to play bagfiles with the _clock_ option on:\n",
    "1. Run a `roscore`.\n",
    "2. Execute `rosparam set use_sim_time true`.\n",
    "3. Play your bagfile: `rosbag play --clock my_bagfile.bag`\n",
    "4. As long as the roscore is running, you can repeat step 3. as many times as you wish.\n",
    "5. In case of terminating your roscore, go back to 1.\n",
    "\n",
    "\n",
    "\n",
    "\n"
   ]
  },
  {
   "cell_type": "markdown",
   "metadata": {},
   "source": [
    "## A GUI tool for rosbags - rqt_bag\n",
    "\n",
    "There is also a GUI-based tool for inspecting, trimming and optionally playing bagfiles.\n",
    "It is launched by the `rqt_bag` command and it requires a roscore running.\n",
    "\n",
    "As the following screenshot suggests,\n",
    "\n",
    "<img src=\"images/rqt_bag_detail.png\" width=\"100%\" style=\"display:block; margin: 0 auto;\" />\n",
    "\n",
    "the _rqt_bag_ can also be used to display images stored in the bagfile, it can show raw data values of the messages and finally it can draw plots of numeric values in the stored messages.\n",
    "\n",
    "Its usage is very intuitive, for details refer to [wiki.ros.org/rqt_bag](http://wiki.ros.org/rqt_bag)\n"
   ]
  },
  {
   "cell_type": "markdown",
   "metadata": {},
   "source": [
    "# Nice! Now you can record and replay ROS topics from bagfiles\n",
    "\n",
    "Or at least you should... \n",
    "\n",
    "Go to the [exercise](../../exercises/ros/3e-exercises_rosbag.ipynb) for this lesson and see for yourself ;)\n",
    "\n"
   ]
  },
  {
   "cell_type": "markdown",
   "metadata": {},
   "source": [
    "&#8635; [Go back to the list of lessons](0-overview.ipynb)"
   ]
  }
 ],
 "metadata": {
  "kernelspec": {
   "display_name": "Python 3",
   "language": "python",
   "name": "python3"
  },
  "language_info": {
   "codemirror_mode": {
    "name": "ipython",
    "version": 3
   },
   "file_extension": ".py",
   "mimetype": "text/x-python",
   "name": "python",
   "nbconvert_exporter": "python",
   "pygments_lexer": "ipython3",
   "version": "3.6.9"
  }
 },
 "nbformat": 4,
 "nbformat_minor": 4
}

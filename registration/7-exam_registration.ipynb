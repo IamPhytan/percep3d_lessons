{
 "cells": [
  {
   "cell_type": "markdown",
   "metadata": {
    "slideshow": {
     "slide_type": "slide"
    }
   },
   "source": [
    "<p style=\"text-align: center;font-size: 40pt\">Exam<\\p>\n",
    "<p style=\"text-align: center;font-size: 20pt\">Now you are by your own<\\p>"
   ]
  },
  {
   "cell_type": "markdown",
   "metadata": {},
   "source": [
    "# General remarks\n",
    "\n",
    "**Expected time**: \n",
    "   - 4 hours of study\n",
    "   - 6 hours of preparation\n",
    "   - 15 min of interview\n",
    "   \n",
    "**Goal**: evaluate two main objectives of the lecture:\n",
    "  - Understand the mathematical foundations for processing point clouds\n",
    "  - Implement a point cloud registration algorithm\n",
    "\n",
    "**Requirements**:\n",
    "1. Module [Welcome to a flat world](../transformations_2d/0-overview.ipynb)\n",
    "1. Module [How hard can it be in 3D?](../transformations_3d/0-overview.ipynb)\n",
    "1. Module [Uncertainty](../uncertainty/0-overview.ipynb)\n",
    "1. Module [Point cloud registration](0-overview.ipynb)"
   ]
  },
  {
   "cell_type": "markdown",
   "metadata": {},
   "source": [
    "# Motivation\n",
    "\n",
    "By know, you have seen bits of code for almost all the theory explained in this lecture.\n",
    "It is time to bring all in a final application.\n",
    "Your goal will be to build a pipeline being able to process a sequence of scans in Python.\n",
    "As oppose to the other evaluations, you will have a day to work with the material prepared for the evaluation.\n",
    "After your work will be submitted, you will have to guide the instructor through your notebook.\n",
    "\n",
    "This exam aims at balancing the types of evaluations used during this lecture.\n",
    "You will have more time to prepare and think about the proposed problem.\n",
    "During the interview, you will also have the opportunity to explain you thought process and highlight details that would have been missed by simply reading your notebook."
   ]
  },
  {
   "cell_type": "markdown",
   "metadata": {},
   "source": [
    "# Grading\n",
    "\n",
    "The evaluation is over 25 points.\n",
    "Here are the high level elements that will be evaluated:\n",
    "\n",
    "- 5 points: the notebook submitted is substantial, clear and well structured;\n",
    "- 15 points: the code produced the expected results; and\n",
    "- 5 points: the student answered appropriatly during the interview.\n",
    "\n",
    "You are expected to:\n",
    "\n",
    "- work alone on the notebook use for evaluation. Recall that you will have to explain your notebook in an interview;\n",
    "- submit your notebook within the allocated period. Recall that there is a timestamp associated to submission on MonPortail;\n",
    "- reuse all the code you need from the lessons, exercises, and assignments; and\n",
    "- search on the internet when needed."
   ]
  },
  {
   "cell_type": "markdown",
   "metadata": {},
   "source": [
    "# Planning your exam\n",
    "\n",
    "## Between two and seven days in advance\n",
    "\n",
    "Steps:\n",
    "1. Review the lessons, your notes, and most importantly the code\n",
    "1. Request a date to work on the notebook\n",
    "   - plan ahead that you will be allowed to work on the notebook from 9am to 4pm\n",
    "   - don't make appointments for two exams in the same week\n",
    "   - you can discuss of a time in Slack or send a [Doodle](https://doodle.com/create)\n",
    "   - we will do our best to accommodate you, but first come first served\n",
    "   - ensure that you select a quiet time on your side\n",
    "1. Request an appointment with an instructor\n",
    "   - when possible, you will have your interview right after you submitted your notebook\n",
    "   - if it's not possible, another date will be organized with you\n",
    "1. Prepare your microphone and camera access and settings (you can use your phone if you wish)\n",
    "   - go to [Google Meet](https://meet.google.com/) and click _start a meeting_\n",
    "   - before joining the meeting, we will have access to your video stream\n",
    "   - click on the three vertical dots on the lower-right side of your video stream, then Settings\n",
    "   - validate that all accesses are granted and that your settings point to the right microphone and camera\n",
    "   - start a meeting by clicking on the button **Present**, then select **Entire Screen**\n",
    "   - it's normal if you don't see your own screen streaming. \n",
    "     If no pop up appears, you are ready to go.\n",
    "   - close Google Meet\n",
    "1. Test your [connection speed](https://www.google.com/search?q=test+internet+speed)\n",
    "   - a speed above 8 Mb/s should be comfortable\n",
    "   \n",
    "## The morning of your exam\n",
    "\n",
    "Steps:\n",
    "\n",
    "1. You will receive an email at 9am with instructions\n",
    "1. Follow the instructions and work on the notebook\n",
    "1. During the exam, you can ask clarifications on what is asked on Slack if something is not clear\n",
    "1. Submit your evaluation material on MonPortail **before 4pm**\n",
    "\n",
    "## During the appointment\n",
    "\n",
    "Steps:\n",
    "\n",
    "1. Few minutes at the beginning will be used to ensure that you understood the instructions and that you are ready\n",
    "1. The instructor will also answer any organization questions you may have\n",
    "1. Once everything is clear, the exam will start:\n",
    "   1. the instructor will share his screen and open your notebook\n",
    "   1. the instructor will run the notebook to quickly evaluate the end results\n",
    "   1. you will pass through the sections of your notebook with the instructor to explain your work\n",
    "1. After 15 min, the evaluation is over\n",
    "1. Results of the evaluation will be discussed at the end of the interview to give some feedback."
   ]
  }
 ],
 "metadata": {
  "kernelspec": {
   "display_name": "Python 3",
   "language": "python",
   "name": "python3"
  },
  "language_info": {
   "codemirror_mode": {
    "name": "ipython",
    "version": 3
   },
   "file_extension": ".py",
   "mimetype": "text/x-python",
   "name": "python",
   "nbconvert_exporter": "python",
   "pygments_lexer": "ipython3",
   "version": "3.8.3"
  }
 },
 "nbformat": 4,
 "nbformat_minor": 4
}

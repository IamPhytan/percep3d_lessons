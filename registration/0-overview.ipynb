{
 "cells": [
  {
   "cell_type": "markdown",
   "metadata": {
    "slideshow": {
     "slide_type": "slide"
    }
   },
   "source": [
    "<p style=\"text-align: center;font-size: 40pt\">Module</p>\n",
    "<p style=\"text-align: center;font-size: 20pt\">Point cloud registration</p>"
   ]
  },
  {
   "cell_type": "markdown",
   "metadata": {},
   "source": [
    "# Overview\n",
    "\n",
    "Requirements:\n",
    "- [How hard can it be in 3D?](../transformations_3d/0-overview.ipynb)\n",
    "- [Uncertainty](../uncertainty/0-overview.ipynb)\n",
    "- [3D tools](../3d_tools/0-overview.ipynb)\n",
    "\n",
    "Objectives:\n",
    "- TODO\n",
    "\n",
    "Time planning:\n",
    "- TODO"
   ]
  },
  {
   "cell_type": "markdown",
   "metadata": {},
   "source": [
    "# Activities\n",
    "\n",
    "This module addresses registration algorithms for 3D point clouds.\n",
    "Those algorithms are used in a lot of applications, one of which is 3D localization and mapping.\n",
    "\n",
    "This module has 9 lessons:\n",
    "1. [Overview of registration algorithms](1-lesson_overview.ipynb)\n",
    "1. in any order:\n",
    "   - [Point cloud association](2-lesson_association.ipynb)\n",
    "   - [Processing point clouds](2-lesson_processing.ipynb)\n",
    "1. [Outliers](3-lesson_outliers.ipynb)\n",
    "1. [Error minimization](4-lesson_error_minimization.ipynb)\n",
    "1. in any order:\n",
    "   - [Use case 1](5-lesson_use_case_1.ipynb)\n",
    "   - [Use case 2](5-lesson_use_case_2.ipynb)\n",
    "   - [Use case 3](5-lesson_use_case_3.ipynb)\n",
    "1. [Registration challenges](6-lesson_challenges.ipynb)\n",
    "\n",
    "and one assignment:\n",
    "- [Registration implementation](../../exercises/1-assignment_implementation.ipynb)"
   ]
  },
  {
   "cell_type": "markdown",
   "metadata": {},
   "source": [
    "&#8635; [Go back to the list of modules](../modules_overview.ipynb)"
   ]
  },
  {
   "cell_type": "markdown",
   "metadata": {},
   "source": [
    "<p style=\"text-align:center\">\n",
    "<img src=\"../../common/images/module_6.jpeg\" alt=\"../../common/images/module_6.jpeg\" width=100%/>\n",
    "</p>"
   ]
  }
 ],
 "metadata": {
  "kernelspec": {
   "display_name": "Python 3",
   "language": "python",
   "name": "python3"
  },
  "language_info": {
   "codemirror_mode": {
    "name": "ipython",
    "version": 3
   },
   "file_extension": ".py",
   "mimetype": "text/x-python",
   "name": "python",
   "nbconvert_exporter": "python",
   "pygments_lexer": "ipython3",
   "version": "3.6.9"
  }
 },
 "nbformat": 4,
 "nbformat_minor": 4
}

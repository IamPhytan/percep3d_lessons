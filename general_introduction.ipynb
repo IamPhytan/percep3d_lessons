{
 "cells": [
  {
   "cell_type": "markdown",
   "metadata": {},
   "source": [
    "<p style=\"text-align:center\">\n",
    "<img src=\"../common/images/banner.jpeg\" width=100% />\n",
    "</p>"
   ]
  },
  {
   "cell_type": "markdown",
   "metadata": {},
   "source": [
    "# Description\n",
    "\n",
    "Ce cours porte sur les algorithmes de perception pour les véhicules autonome, et met particulièrement l’accent sur le traitement de nuages de points provenant de capteurs lidars. Les thèmes couverts touchent : le déploiement terrain avec un véhicule autonomes; les formalismes sur SO(3), le groupe des rotations 3D; les transformations rigides 3D; les changements de repères; la géométrie différentielle; l’intergiciel Robot Operating System (ROS); le recalage de nuages de points : association et voisin le plus proche, fonction objectif et valeurs aberrantes."
   ]
  },
  {
   "cell_type": "markdown",
   "metadata": {},
   "source": [
    "# Context\n",
    "\n",
    "Ce cours présente les implications des véhicules autonomes sur la société et certains fondements théoriques des algorithmes de perception permettant la navigation autonome d’un véhicule en trois dimensions (3D). Nous verrons les limitations et les avantages des différents capteurs nécessaires à la navigation autonome. Les algorithmes de recalage de nuages de points 3D seront expliqués avec une attention particulière aux diverses représentations des rotations en partant des angles d’Euler jusqu’à l’algèbre de Lie. L’aspect pratique du cours utilisera un robot équipé d’un lidar 3D afin de recueillir des données sur le terrain et de créer une carte 3D d’une zone d’intérêt sur le campus. \n",
    "\n",
    "Les connaissances acquises dans ce cours touchent plusieurs domaines. Depuis quelque temps, la majorité des constructeurs automobiles investissent massivement dans des groupes de recherche et développements afin d’automatiser la conduite. Une des solutions émergentes est l’utilisation de capteurs 3D afin de localiser les véhicules dans leur environnement. De son côté, l’industrie du jeu vidéo cherche activement des façons interactives d’engager le joueur dans des environnements virtuels à l’aide de capteurs 3D. Finalement, l’inspection sans contact — que ce soit de petits objets, de chantiers de construction ou de pièces d’usinage — se base essentiellement sur des capteurs 3D qui permettent une analyse détaillée des caractéristiques physiques des surfaces. Tous ces domaines reposent sur des notions communes de reconstruction 3D qui seront abordées dans ce cours.\n",
    "\n",
    "Pour bien apprécier le cours, il est suggéré d’être fonctionnel sur un système d’exploitation de type Ubuntu, d’avoir une base en programmation (Python ou C++), de pouvoir utiliser des outils en ligne de commande et d’être à l’aise avec l’algèbre vectorielle et linéaire. Le cours étant de type hybride, il est attendu que les participants apportent leur ordinateur portable personnel lors des séances sur le campus. "
   ]
  },
  {
   "cell_type": "markdown",
   "metadata": {},
   "source": [
    "# Who are the instructors?\n",
    "\n",
    "- François Pomerleau\n",
    "- Simon-Pierre Deschênes\n",
    "- Vladimir Kubelka"
   ]
  },
  {
   "cell_type": "markdown",
   "metadata": {},
   "source": [
    "# Learning objectives\n",
    "  - video of Warthog mapping in Montmorency's forest\n",
    "  - \n",
    "  \n",
    "1. Comprendre les fondements mathématiques permettant le traitement de nuages de points :\n",
    "   1. Comprendre les bases de la géométrie différentielle pour extraire de l'information structurelle d'un nuage de points.\n",
    "   1. Manipuler des points 3D en effectuant des changements de repère.\n",
    "   1. Convertir différents formalismes de rotation en 3D.\n",
    "   1. Expliquer les avantages et inconvénients des différents formalismes exprimant une rotation en 3D. Seulement pour niveau maîtrise et doctorat. \n",
    "\n",
    "1. Implémenter un algorithme de recalage de nuages de points :\n",
    "   1. Comprendre le fonctionnement de base d'un lidar.\n",
    "   1. Calculer une transformation rigide minimisant l'erreur d'alignement entre deux nuages de points\n",
    "   1. Schématiser une solution complète de recalage de nuages de points\n",
    "   1. Critiquer une solution complète de recalage de nuages de points. Seulement pour niveau maîtrise et doctorat.\n",
    "\n",
    "1. Concevoir un système de perception d'un véhicule autonome :\n",
    "   1. Comprendre les implications sociales et techniques d'un véhicule autonome\n",
    "   1. Utiliser un intergiciel pour le traitement des données\n",
    "   1. Traiter un flux de données provenant d'un lidar\n",
    "\n",
    "<p style=\"text-align:center\">\n",
    "<img src=\"../common/images/campus3D.jpg\" width=75% />\n",
    "<br>\n",
    "Reconstruction of the campus using point clouds from lidar.\n",
    "</p>"
   ]
  },
  {
   "cell_type": "markdown",
   "metadata": {},
   "source": [
    "# Teaching methods\n",
    "\n",
    "In that lecture, I'm experimenting different teaching methods proposed by the pedagogic supporting staff.\n",
    "A lot are uncommon teaching methods, so be ready to experiment with me.\n",
    "  - flipped classroom and asynchronous teaching\n",
    "    - You first do the activities\n",
    "    - Try the exercises as best as you can and find gaps in your understanding\n",
    "    - This process is uneasy at first or can be uncomfortable for some as it highlights learning challenges first.\n",
    "    - The goal of the instructor is to answer your questions and help you to connect concepts.\n",
    "    - This is called active learning, as you are responsible to search for solutions, as opposed to passive learning where you receive a stream of information in one block and try to figure out how it will be useful.\n",
    "    - There will be one video at the beginning of each module to explain the general goals.\n",
    "    - There will also be a video at the end of the module to explain concepts that triggered a lot of questions, redo exercises, hand written explanations, etc.\n",
    "    - We will use a [dedicated Slack](https://glo-7007-55816-e2020.slack.com/) for the lecture.\n",
    "    - You are encourage to use public channels as much as you can so everyone can participate.\n",
    "    - If you feel the need, you can also ask questions to instructors privately \n",
    "    \n",
    "The following [xkcd strip](https://xkcd.com/1319/) resumes pretty well how I built this class, with the mention that I prefer coding than doing PowerPoints...\n",
    "\n",
    "<p style=\"text-align:center\">\n",
    "<img src=\"../common/images/automation_2x.png\" width=50% />\n",
    "</p>"
   ]
  },
  {
   "cell_type": "markdown",
   "metadata": {},
   "source": [
    "# Diversification of the teaching material\n",
    "\n",
    "- videos\n",
    "- reading\n",
    "- notebook for interactive lessons\n",
    "    - use `>` to take notes, for example\n",
    "> TODO Review this concept\n",
    "- hands-on learning with robotics and 3D tools \n"
   ]
  },
  {
   "cell_type": "markdown",
   "metadata": {},
   "source": [
    "# Accessibility\n",
    "\n",
    "- The lecture support French and English. The written material is in English as most of the manuals are.\n",
    "- Videos will be in French for this year and I will eventually figure out how to support both languages next year.\n",
    "- Evaluations and questions will be in the language of your choice\n",
    "- Creative Commons content\n",
    "- Lessons are freely available to all: https://github.com/norlab-ulaval/percep3d_lessons\n",
    "- Rely on open source projects\n",
    "  - Jupyterlab, notebooks, nbgrader, Python, ROS\n",
    "\n",
    "- reading materials are freely and openly available\n",
    "  - Pomerleau, F., Colas, F., & Siegwart, R. (2015). A Review of Point Cloud Registration Algorithms for Mobile Robotics. Foundations and Trends in Robotics, 4(1), 1–104. (pdf)\n",
    "  - Barfoot T D. State Estimation for Robotics. Cambridge University Press, 2017. ISBN 9781107159396. doi: 10.1017/9781316671528, (google). (pdf)"
   ]
  },
  {
   "cell_type": "markdown",
   "metadata": {},
   "source": [
    "# Grading methods\n",
    "\n",
    "- the goal is to diversify grading methods to suit different type of learning\n",
    "- exercises are mandatory but not graded\n",
    "  - Goal: reverse teaching by asking you to find information to solve a given problem. \n",
    "  - They are part of the lessons, not reserved in the case you didn't understand a lesson.\n",
    "  - you need to complete the dedicated notebook and upload it to MonPortail -> \"Évaluations et résultats\" -> \"Formatives\"\n",
    "  - if there is a general effort in trying the exercises, you will received the answers in MonPortail.\n",
    "  - if not, you will will encourage you to try again and ask more questions if you're block.\n",
    "  - you should help each others with the exercises as explaining concepts helps to stabilize knowledge\n",
    "  - there is no deadline to send your exercises\n",
    "- assignments\n",
    "  - Goal: ensure that you engage with the teaching material in a timely manner\n",
    "  - must be done individually\n",
    "  - you need to complete the dedicated notebook and upload it to MonPortail -> \"Évaluations et résultats\" -> \"Sommatives\"\n",
    "  - you should reserve more time than typical exercises to complete them.\n",
    "  - there is no deadline to send your assignments, but you can submit you assignment only once. If the official date of the end of the semester is passed, missing assignments will have a grade of zero.\n",
    "- oral exams\n",
    "  - Goal: validate your understand of different concepts and how you can put them into practice\n",
    "  - Examinations are done using videoconferencing tools\n",
    "  - There is only one student with instructor(s)\n",
    "  - Oral exams are in a form of an interview, not a monologue from the student.\n",
    "  - The main difference with written exams is that the instructor is there to help you to progress through questions\n",
    "  - The duration is 20 min total. The first five minutes are to give you instructions and time to prepare\n",
    "  - You need to fix an appointment with an instructor to pass an exam.\n",
    "  - there is no deadline to pass an oral examination,\n",
    "  - Missing exam will have a grade of zero if the official date of the end of the semester is passed\n",
    "\n",
    "| Percentage of the semester | Activity       |\n",
    "|----------------------------|----------------|\n",
    "| 25 %                       | 5x Assignments |\n",
    "| 75 %                       | 3x Oral exams  |\n",
    "    \n",
    "\n",
    "    "
   ]
  },
  {
   "cell_type": "markdown",
   "metadata": {},
   "source": [
    "# Similar lectures\n",
    "\n",
    "Le contenu du cours a une portée interdisciplinaire s’adressant aux étudiants en informatique, génie logiciel, génie informatique, génie électrique et génie mécanique, sciences géomatiques et génie géomatique avec des intérêts pour les cours suivants :\n",
    "\n",
    "GLO-7021 Introduction à la robotique mobile https://www.ulaval.ca/les-etudes/cours/repertoire/detailsCours/glo-7021-introduction-a-la-robotique-mobile.html\n",
    "GMC-7046 Éléments de robotique ulaval.ca/les-etudes/cours/repertoire/detailsCours/gmc-7046-elements-de-robotique.html\n",
    "GIF-7001 Vision numérique https://www.ulaval.ca/les-etudes/cours/repertoire/detailsCours/gif-7001-vision-numerique.html\n",
    "GMT-7007 Capteurs actifs https://www.ulaval.ca/les-etudes/cours/repertoire/detailsCours/gmt-7007-capteurs-actifs.html\n",
    "7105: Photographie Algorithmique\n",
    "https://www.ulaval.ca/les-etudes/cours/repertoire/detailsCours/gif-7105-photographie-algorithmique.html\n",
    "\n",
    "## In the world\n",
    "\n",
    "Titre : Programming for Robotics - ROS\n",
    "Lieu : ETH Zurich, Suisse\n",
    "Web : https://rsl.ethz.ch/education-students/lectures/ros.html\n",
    "Relation : Une sous section de ce cours sera repris pour les modules “Introduction à ROS (Robot Operating System)” et “Approfondissement de ROS”.\n",
    "\n",
    "\n",
    "Titre : Plusieurs cours universitaire sur ROS\n",
    "Lieu : Une liste de 33 universités dans le monde\n",
    "Web : http://wiki.ros.org/Courses\n",
    "Relation : Une sous section de ce cours sera repris pour les modules “Introduction à ROS (Robot Operating System)” et “Approfondissement de ROS”.\n",
    "\n",
    "Titre : Modern Robotics\n",
    "Lieu : Northwestern University / Coursera, États-Unis\n",
    "Web : https://www.coursera.org/specializations/modernrobotics\n",
    "Relation : La section sur les déplacement de corps rigides est similaire au module “Formalismes de rotations”\n",
    "\n",
    "University of Toronto\n",
    "CSC477: Introduction to Mobile Robotics, Fall 2019\n",
    "\n",
    "Self-Driving Cars Specialization\n",
    "State Estimation and Localization for Self-Driving Cars\n",
    "\n",
    "Titre : “Introduction to Mobile Robotics” et “Robot Mapping”\n",
    "Lieu : University of Freiburg, Allemagne\n",
    "Web : http://ais.informatik.uni-freiburg.de/teaching/ws19/mapping/\n",
    "http://ais.informatik.uni-freiburg.de/teaching/ss19/robotics/\n",
    "Relation : En lien avec une partie du contenu de “Recalage de nuages de points”, “Théorie sur les lidars” et “Formalismes de rotations”\n",
    "\n",
    "Titre : Program in Robotics\n",
    "Lieu : Pennsylvania University / Coursera, États-Unis\n",
    "Web : https://www.coursera.org/lecture/robotics-learning/iterative-closest-point-1jDix\n",
    "Relation : En lien avec une partie du contenu de “Recalage de nuages de points”\n",
    "\n",
    "Audacity\n",
    "SELF-DRIVING CAR ENGINEER NANODEGREE PROGRAM\n",
    "MODULE 4: Introduction to Localization\n",
    "PROJECT 6: BUILD AN END-TO-END LOCALIZER FOR A “STOLEN” VEHICLE\n",
    "Implement a 2-dimensional particle filter in C++ and combine it with a map to localize a vehicle!"
   ]
  },
  {
   "cell_type": "markdown",
   "metadata": {},
   "source": [
    "To get started:\n",
    "- See the [list of modules and their interconnections](./modules_overview.ipynb)"
   ]
  }
 ],
 "metadata": {
  "kernelspec": {
   "display_name": "Python 3",
   "language": "python",
   "name": "python3"
  },
  "language_info": {
   "codemirror_mode": {
    "name": "ipython",
    "version": 3
   },
   "file_extension": ".py",
   "mimetype": "text/x-python",
   "name": "python",
   "nbconvert_exporter": "python",
   "pygments_lexer": "ipython3",
   "version": "3.8.2"
  }
 },
 "nbformat": 4,
 "nbformat_minor": 4
}

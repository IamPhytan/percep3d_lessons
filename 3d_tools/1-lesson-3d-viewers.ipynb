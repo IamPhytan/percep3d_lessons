{
 "cells": [
  {
   "cell_type": "markdown",
   "metadata": {
    "slideshow": {
     "slide_type": "slide"
    }
   },
   "source": [
    "<p style=\"text-align: center;font-size: 40pt\">3D viewers</p>"
   ]
  },
  {
   "cell_type": "markdown",
   "metadata": {},
   "source": [
    "# List of 3D viewers\n",
    "\n",
    "- [Paraview](https://www.paraview.org/) - Free, , multi-platform\n",
    "- [Meshlab](https://www.meshlab.net/) - Open source, multi-platform\n",
    "- [Cloud Compare](https://www.danielgm.net/cc/) - Open source, multi-platform\n",
    "- [Blender](https://www.blender.org/) - Open source, multi-platform\n",
    "- Multiple softwares from surveying companies such as Trimble, Leica, Bentley, and Faro\n",
    "- Multiple online versions using html5\n",
    "\n",
    "Typical extensions for point clouds:\n",
    "- `.vtk`\n",
    "- `.ply`\n",
    "- `.csv`\n",
    "- `.las`\n",
    "- `.xyz`\n",
    "\n",
    "For 3D printer:\n",
    "- `.stl`\n",
    "\n",
    "Elevation maps"
   ]
  },
  {
   "cell_type": "markdown",
   "metadata": {},
   "source": [
    "# Paraview\n",
    "\n",
    "From Kitware (maintainer of CMake)\n",
    "scientific visualization\n",
    "variable level of details"
   ]
  },
  {
   "cell_type": "markdown",
   "metadata": {},
   "source": [
    "Tutorials\n",
    "- geometric shapes and basic navigation\n",
    "- selection and inverse selection\n"
   ]
  },
  {
   "cell_type": "markdown",
   "metadata": {},
   "source": [
    "&#8635; [Go back to the list of lessons](0-overview.ipynb)"
   ]
  }
 ],
 "metadata": {
  "kernelspec": {
   "display_name": "Python 3",
   "language": "python",
   "name": "python3"
  },
  "language_info": {
   "codemirror_mode": {
    "name": "ipython",
    "version": 3
   },
   "file_extension": ".py",
   "mimetype": "text/x-python",
   "name": "python",
   "nbconvert_exporter": "python",
   "pygments_lexer": "ipython3",
   "version": "3.8.3"
  }
 },
 "nbformat": 4,
 "nbformat_minor": 4
}
